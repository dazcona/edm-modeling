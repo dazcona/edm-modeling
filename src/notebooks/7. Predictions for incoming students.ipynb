{
 "cells": [
  {
   "cell_type": "markdown",
   "metadata": {
    "collapsed": true
   },
   "source": [
    "# Predictions for incoming students"
   ]
  },
  {
   "cell_type": "code",
   "execution_count": 1,
   "metadata": {},
   "outputs": [
    {
     "name": "stderr",
     "output_type": "stream",
     "text": [
      "/Users/dazconap/Projects/edm-modeling/env/lib/python3.6/site-packages/sklearn/externals/joblib/__init__.py:15: DeprecationWarning: sklearn.externals.joblib is deprecated in 0.21 and will be removed in 0.23. Please import this functionality directly from joblib, which can be installed with: pip install joblib. If this warning is raised when loading pickled models, you may need to re-serialize those models with scikit-learn 0.21+.\n",
      "  warnings.warn(msg, category=DeprecationWarning)\n"
     ]
    }
   ],
   "source": [
    "import json\n",
    "import pandas as pd\n",
    "import pickle\n",
    "import numpy as np\n",
    "from sklearn.externals import joblib"
   ]
  },
  {
   "cell_type": "code",
   "execution_count": 2,
   "metadata": {},
   "outputs": [],
   "source": [
    "_course = 'ca116'\n",
    "_academic_year = (2018, 2019)"
   ]
  },
  {
   "cell_type": "code",
   "execution_count": 3,
   "metadata": {},
   "outputs": [],
   "source": [
    "filename = '../../data/features/features_%s_%s.json' % (_course.upper(), _academic_year[1])\n",
    "with open(filename) as f:\n",
    "    data = json.load(f)"
   ]
  },
  {
   "cell_type": "code",
   "execution_count": 4,
   "metadata": {},
   "outputs": [
    {
     "data": {
      "text/plain": [
       "'1,560'"
      ]
     },
     "execution_count": 4,
     "metadata": {},
     "output_type": "execute_result"
    }
   ],
   "source": [
    "'{:,}'.format(len(data))"
   ]
  },
  {
   "cell_type": "code",
   "execution_count": 5,
   "metadata": {},
   "outputs": [
    {
     "data": {
      "text/plain": [
       "{'course': 'ca116',\n",
       " 'academic_year_0': 2018,\n",
       " 'academic_year_1': 2019,\n",
       " 'week': 1,\n",
       " 'exam': 4,\n",
       " 'student': 'abdulla6',\n",
       " 'cao_points': 395.0,\n",
       " 'route': 'CAO',\n",
       " 'math_lc': 71.0,\n",
       " 'domicile': 8766.13663348,\n",
       " 'grade': 50,\n",
       " 'program_correct_W1': 0.6666666666666666,\n",
       " 'cum_programs_W1': 0.6666666666666666,\n",
       " 'campus_rate_W1': 1.0,\n",
       " 'week_rate_W1': 0.0,\n",
       " 'coverage_W1': 0.4}"
      ]
     },
     "execution_count": 5,
     "metadata": {},
     "output_type": "execute_result"
    }
   ],
   "source": [
    "data[0]"
   ]
  },
  {
   "cell_type": "code",
   "execution_count": 6,
   "metadata": {},
   "outputs": [],
   "source": [
    "exams = [4, 8, 12]"
   ]
  },
  {
   "cell_type": "code",
   "execution_count": 7,
   "metadata": {},
   "outputs": [],
   "source": [
    "THRESHOLD = 40"
   ]
  },
  {
   "cell_type": "code",
   "execution_count": 8,
   "metadata": {},
   "outputs": [],
   "source": [
    "X_test_students = {}\n",
    "\n",
    "for exam in exams:\n",
    "    \n",
    "    # Students to test\n",
    "    X_test_students[exam] = np.load('../../data/features/X_test_{}.npy'.format(exam))"
   ]
  },
  {
   "cell_type": "code",
   "execution_count": 9,
   "metadata": {},
   "outputs": [
    {
     "name": "stdout",
     "output_type": "stream",
     "text": [
      "** Week 1 **\n",
      "Generating predictions\n",
      "Using model: ../../data/models/model_week_1.pkl\n",
      "Saving them to: ../../data/predictions/predictions_CA116_2019_week_1.json\n",
      "** Week 2 **\n",
      "Generating predictions\n",
      "Using model: ../../data/models/model_week_2.pkl\n",
      "Saving them to: ../../data/predictions/predictions_CA116_2019_week_2.json\n",
      "** Week 3 **\n",
      "Generating predictions\n",
      "Using model: ../../data/models/model_week_3.pkl\n",
      "Saving them to: ../../data/predictions/predictions_CA116_2019_week_3.json\n",
      "** Week 4 **\n",
      "Generating predictions\n",
      "Using model: ../../data/models/model_week_4.pkl\n",
      "Saving them to: ../../data/predictions/predictions_CA116_2019_week_4.json\n",
      "** Week 5 **\n",
      "Generating predictions\n",
      "Using model: ../../data/models/model_week_5.pkl\n",
      "Saving them to: ../../data/predictions/predictions_CA116_2019_week_5.json\n",
      "** Week 6 **\n",
      "Generating predictions\n",
      "Using model: ../../data/models/model_week_6.pkl\n",
      "Saving them to: ../../data/predictions/predictions_CA116_2019_week_6.json\n",
      "** Week 7 **\n",
      "Generating predictions\n",
      "Using model: ../../data/models/model_week_7.pkl\n",
      "Saving them to: ../../data/predictions/predictions_CA116_2019_week_7.json\n",
      "** Week 8 **\n",
      "Generating predictions\n",
      "Using model: ../../data/models/model_week_8.pkl\n",
      "Saving them to: ../../data/predictions/predictions_CA116_2019_week_8.json\n",
      "** Week 9 **\n",
      "Generating predictions\n",
      "Using model: ../../data/models/model_week_9.pkl\n",
      "Saving them to: ../../data/predictions/predictions_CA116_2019_week_9.json\n",
      "** Week 10 **\n",
      "Generating predictions\n",
      "Using model: ../../data/models/model_week_10.pkl\n",
      "Saving them to: ../../data/predictions/predictions_CA116_2019_week_10.json\n",
      "** Week 11 **\n",
      "Generating predictions\n",
      "Using model: ../../data/models/model_week_11.pkl\n",
      "Saving them to: ../../data/predictions/predictions_CA116_2019_week_11.json\n",
      "** Week 12 **\n",
      "Generating predictions\n",
      "Using model: ../../data/models/model_week_12.pkl\n",
      "Saving them to: ../../data/predictions/predictions_CA116_2019_week_12.json\n"
     ]
    }
   ],
   "source": [
    "cols_to_remove = ['academic_year_0', 'academic_year_1', 'course', 'route', # For now route is removed\n",
    "                  'student', 'week', 'exam', 'grade', 'domicile']\n",
    "    \n",
    "i = 0\n",
    "while i < 12:\n",
    "\n",
    "    week = i + 1\n",
    "    print('** Week %s **' % (week))\n",
    "\n",
    "    week_data = pd.DataFrame([d for d in data if d['week'] == week])\n",
    "\n",
    "    if len(week_data) > 0:\n",
    "\n",
    "        print('Generating predictions')\n",
    "\n",
    "        # Load Model\n",
    "        filename = '../../data/models/model_week_%s.pkl' % (week)\n",
    "        print('Using model: %s' % (filename))\n",
    "        model = joblib.load(filename)\n",
    "\n",
    "        # test data\n",
    "        test_data = week_data[ week_data['student'].isin(X_test_students[exam]) ]\n",
    "\n",
    "        X_test = test_data.drop(cols_to_remove, axis=1)\n",
    "        y_test = test_data['grade']\n",
    "\n",
    "        # fill NA\n",
    "        X_test.fillna(0, inplace=True)\n",
    "\n",
    "        # Predict\n",
    "        predictions = model.predict(X_test)\n",
    "        # Probabilities\n",
    "        probs = model.predict_proba(X_test)\n",
    "        \n",
    "        # Students\n",
    "        student_names = list(week_data['student'])\n",
    "\n",
    "        # Predictions per student and week\n",
    "        predictions = [ { \n",
    "            'student': name, \n",
    "            'prediction': bool(p), \n",
    "            'probability': list(prob),\n",
    "            'week': week \n",
    "        } for name, p, prob, y in zip(student_names, predictions, probs, y_test) ]\n",
    "\n",
    "        # Write them!\n",
    "        filename = '../../data/predictions/predictions_%s_%s_week_%s.json' % (_course.upper(), _academic_year[1], week)\n",
    "        print('Saving them to: %s' % (filename))\n",
    "        with open(filename, 'w') as outfile:\n",
    "            json.dump(predictions, outfile)\n",
    "        \n",
    "    i += 1"
   ]
  }
 ],
 "metadata": {
  "kernelspec": {
   "display_name": "Python 3",
   "language": "python",
   "name": "python3"
  },
  "language_info": {
   "codemirror_mode": {
    "name": "ipython",
    "version": 3
   },
   "file_extension": ".py",
   "mimetype": "text/x-python",
   "name": "python",
   "nbconvert_exporter": "python",
   "pygments_lexer": "ipython3",
   "version": "3.6.5"
  }
 },
 "nbformat": 4,
 "nbformat_minor": 2
}

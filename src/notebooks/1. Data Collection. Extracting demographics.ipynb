{
 "cells": [
  {
   "cell_type": "markdown",
   "metadata": {},
   "source": [
    "# Data Collection\n",
    "\n",
    "Collecting student data for CA116"
   ]
  },
  {
   "cell_type": "markdown",
   "metadata": {},
   "source": [
    "Import libraries:"
   ]
  },
  {
   "cell_type": "code",
   "execution_count": 1,
   "metadata": {
    "collapsed": true
   },
   "outputs": [],
   "source": [
    "import os\n",
    "import csv\n",
    "import json\n",
    "import datetime\n",
    "import numpy as np\n",
    "import pandas as pd\n",
    "from dateutil.relativedelta import relativedelta\n",
    "import matplotlib.pyplot as plt\n",
    "%matplotlib inline"
   ]
  },
  {
   "cell_type": "markdown",
   "metadata": {},
   "source": [
    "Matplotlib config:"
   ]
  },
  {
   "cell_type": "code",
   "execution_count": 2,
   "metadata": {
    "collapsed": true
   },
   "outputs": [],
   "source": [
    "font = { 'family': 'DejaVu Sans', 'weight': 'bold', 'size': 22 }\n",
    "plt.rc('font', **font)"
   ]
  },
  {
   "cell_type": "markdown",
   "metadata": {},
   "source": [
    "### Course"
   ]
  },
  {
   "cell_type": "code",
   "execution_count": 3,
   "metadata": {
    "collapsed": true
   },
   "outputs": [],
   "source": [
    "_course = 'ca116'"
   ]
  },
  {
   "cell_type": "markdown",
   "metadata": {},
   "source": [
    "### Years"
   ]
  },
  {
   "cell_type": "code",
   "execution_count": 4,
   "metadata": {
    "collapsed": true
   },
   "outputs": [],
   "source": [
    "_years = [\n",
    "    (2016, 2017),\n",
    "    (2017, 2018),\n",
    "    (2018, 2019),\n",
    "]"
   ]
  },
  {
   "cell_type": "markdown",
   "metadata": {},
   "source": [
    "### Grades\n",
    "\n",
    "Results on the laboratory computer-based examinations:"
   ]
  },
  {
   "cell_type": "code",
   "execution_count": 5,
   "metadata": {
    "collapsed": true
   },
   "outputs": [],
   "source": [
    "df_grades = pd.read_json('../../data/raw/grades.json')"
   ]
  },
  {
   "cell_type": "code",
   "execution_count": 6,
   "metadata": {},
   "outputs": [
    {
     "data": {
      "text/html": [
       "<div>\n",
       "<style scoped>\n",
       "    .dataframe tbody tr th:only-of-type {\n",
       "        vertical-align: middle;\n",
       "    }\n",
       "\n",
       "    .dataframe tbody tr th {\n",
       "        vertical-align: top;\n",
       "    }\n",
       "\n",
       "    .dataframe thead th {\n",
       "        text-align: right;\n",
       "    }\n",
       "</style>\n",
       "<table border=\"1\" class=\"dataframe\">\n",
       "  <thead>\n",
       "    <tr style=\"text-align: right;\">\n",
       "      <th></th>\n",
       "      <th>academic_year_0</th>\n",
       "      <th>academic_year_1</th>\n",
       "      <th>exam_week</th>\n",
       "      <th>grade</th>\n",
       "      <th>module</th>\n",
       "      <th>user</th>\n",
       "    </tr>\n",
       "  </thead>\n",
       "  <tbody>\n",
       "    <tr>\n",
       "      <th>0</th>\n",
       "      <td>2015</td>\n",
       "      <td>2016</td>\n",
       "      <td>12</td>\n",
       "      <td>10</td>\n",
       "      <td>ca116</td>\n",
       "      <td>corrigg2</td>\n",
       "    </tr>\n",
       "    <tr>\n",
       "      <th>1</th>\n",
       "      <td>2015</td>\n",
       "      <td>2016</td>\n",
       "      <td>12</td>\n",
       "      <td>10</td>\n",
       "      <td>ca116</td>\n",
       "      <td>hanleya3</td>\n",
       "    </tr>\n",
       "  </tbody>\n",
       "</table>\n",
       "</div>"
      ],
      "text/plain": [
       "   academic_year_0  academic_year_1  exam_week  grade module      user\n",
       "0             2015             2016         12     10  ca116  corrigg2\n",
       "1             2015             2016         12     10  ca116  hanleya3"
      ]
     },
     "execution_count": 6,
     "metadata": {},
     "output_type": "execute_result"
    }
   ],
   "source": [
    "df_grades.head(2)"
   ]
  },
  {
   "cell_type": "code",
   "execution_count": 7,
   "metadata": {},
   "outputs": [
    {
     "data": {
      "text/plain": [
       "'1,284'"
      ]
     },
     "execution_count": 7,
     "metadata": {},
     "output_type": "execute_result"
    }
   ],
   "source": [
    "'{:,}'.format(len(df_grades))"
   ]
  },
  {
   "cell_type": "code",
   "execution_count": 8,
   "metadata": {
    "collapsed": true
   },
   "outputs": [],
   "source": [
    "staff = [ 'sblott' ]\n",
    "\n",
    "def get_grades(course, academic_year):\n",
    "    return df_grades[(df_grades['academic_year_0'] == academic_year[0]) & \n",
    "                     (df_grades['academic_year_1'] == academic_year[1]) & \n",
    "                     (df_grades['module'] == course) & \n",
    "                     (~df_grades['user'].isin(staff))] # user not in staff"
   ]
  },
  {
   "cell_type": "code",
   "execution_count": 9,
   "metadata": {
    "collapsed": true
   },
   "outputs": [],
   "source": [
    "grades_students = get_grades(_course, _years[0]) # Academic Year: 2016, 2017"
   ]
  },
  {
   "cell_type": "code",
   "execution_count": 10,
   "metadata": {},
   "outputs": [
    {
     "data": {
      "text/html": [
       "<div>\n",
       "<style scoped>\n",
       "    .dataframe tbody tr th:only-of-type {\n",
       "        vertical-align: middle;\n",
       "    }\n",
       "\n",
       "    .dataframe tbody tr th {\n",
       "        vertical-align: top;\n",
       "    }\n",
       "\n",
       "    .dataframe thead th {\n",
       "        text-align: right;\n",
       "    }\n",
       "</style>\n",
       "<table border=\"1\" class=\"dataframe\">\n",
       "  <thead>\n",
       "    <tr style=\"text-align: right;\">\n",
       "      <th></th>\n",
       "      <th>academic_year_0</th>\n",
       "      <th>academic_year_1</th>\n",
       "      <th>exam_week</th>\n",
       "      <th>grade</th>\n",
       "      <th>module</th>\n",
       "      <th>user</th>\n",
       "    </tr>\n",
       "  </thead>\n",
       "  <tbody>\n",
       "    <tr>\n",
       "      <th>260</th>\n",
       "      <td>2016</td>\n",
       "      <td>2017</td>\n",
       "      <td>12</td>\n",
       "      <td>54</td>\n",
       "      <td>ca116</td>\n",
       "      <td>agnewm4</td>\n",
       "    </tr>\n",
       "    <tr>\n",
       "      <th>371</th>\n",
       "      <td>2016</td>\n",
       "      <td>2017</td>\n",
       "      <td>4</td>\n",
       "      <td>100</td>\n",
       "      <td>ca116</td>\n",
       "      <td>agnewm4</td>\n",
       "    </tr>\n",
       "    <tr>\n",
       "      <th>484</th>\n",
       "      <td>2016</td>\n",
       "      <td>2017</td>\n",
       "      <td>8</td>\n",
       "      <td>25</td>\n",
       "      <td>ca116</td>\n",
       "      <td>agnewm4</td>\n",
       "    </tr>\n",
       "  </tbody>\n",
       "</table>\n",
       "</div>"
      ],
      "text/plain": [
       "     academic_year_0  academic_year_1  exam_week  grade module     user\n",
       "260             2016             2017         12     54  ca116  agnewm4\n",
       "371             2016             2017          4    100  ca116  agnewm4\n",
       "484             2016             2017          8     25  ca116  agnewm4"
      ]
     },
     "execution_count": 10,
     "metadata": {},
     "output_type": "execute_result"
    }
   ],
   "source": [
    "grades_students[grades_students['user'] == 'agnewm4']"
   ]
  },
  {
   "cell_type": "code",
   "execution_count": 11,
   "metadata": {
    "collapsed": true
   },
   "outputs": [],
   "source": [
    "student_names = grades_students.user.unique()"
   ]
  },
  {
   "cell_type": "code",
   "execution_count": 12,
   "metadata": {},
   "outputs": [
    {
     "data": {
      "text/plain": [
       "125"
      ]
     },
     "execution_count": 12,
     "metadata": {},
     "output_type": "execute_result"
    }
   ],
   "source": [
    "len(student_names)"
   ]
  },
  {
   "cell_type": "markdown",
   "metadata": {},
   "source": [
    "### Students per academic year\n",
    "\n",
    "Dictionary of students every academic year:"
   ]
  },
  {
   "cell_type": "code",
   "execution_count": 13,
   "metadata": {},
   "outputs": [
    {
     "name": "stdout",
     "output_type": "stream",
     "text": [
      "Course: CA116, Year: (2016, 2017), # Students: 125\n",
      "Course: CA116, Year: (2017, 2018), # Students: 156\n",
      "Course: CA116, Year: (2018, 2019), # Students: 129\n"
     ]
    }
   ],
   "source": [
    "students = {}\n",
    "\n",
    "for _year in _years:\n",
    "    \n",
    "    # Students\n",
    "    students[_year] = get_grades(_course, _year).user.unique()\n",
    "    \n",
    "    print('Course: {}, Year: {}, # Students: {}'.format(_course.upper(), _year, len(students[_year])))"
   ]
  },
  {
   "cell_type": "markdown",
   "metadata": {},
   "source": [
    "### Demographics\n",
    "\n",
    "Dictionary of usernames and domiciles every academic year:"
   ]
  },
  {
   "cell_type": "code",
   "execution_count": 14,
   "metadata": {
    "collapsed": true
   },
   "outputs": [],
   "source": [
    "path = '../../data/demographics'\n",
    "\n",
    "demographic_filenames = {\n",
    "    (2016, 2017): [ os.path.join(path, \"2017_bio_I.csv\"), os.path.join(path, \"2017_bio_II.csv\") ],\n",
    "    (2017, 2018): [ os.path.join(path, \"2018_bio.csv\") ],\n",
    "    (2018, 2019): [ os.path.join(path, \"2019_bio.csv\") ],\n",
    "}\n",
    "\n",
    "cao_filenames = {\n",
    "    (2016, 2017): [ os.path.join(path, \"2017_leaving_cert_I.csv\"), os.path.join(path, \"2017_leaving_cert_II.csv\"),\n",
    "                    os.path.join(path, \"2017_leaving_cert_III.csv\"), os.path.join(path, \"2017_leaving_cert_IV.csv\"),\n",
    "                    os.path.join(path, \"2017_leaving_cert_V.csv\"), os.path.join(path, \"2017_leaving_cert_VI.csv\"),\n",
    "                  ],\n",
    "    (2017, 2018): [ os.path.join(path, \"2018_leaving_cert_I.csv\"), os.path.join(path, \"2018_leaving_cert_II.csv\") ],\n",
    "    (2018, 2019): [ os.path.join(path, \"2019_leaving_cert.csv\") ],\n",
    "}"
   ]
  },
  {
   "cell_type": "code",
   "execution_count": 15,
   "metadata": {
    "collapsed": true
   },
   "outputs": [],
   "source": [
    "def get_demographic_data(years):\n",
    "    \n",
    "    # Students\n",
    "    student_names = students[years]\n",
    "    \n",
    "    usernames = {}\n",
    "    domiciles = {}\n",
    "        \n",
    "    for filename in demographic_filenames[years]:\n",
    "        \n",
    "        print('Reading {}'.format(filename))\n",
    "\n",
    "        with open(filename, encoding='utf-8-sig') as f:\n",
    "\n",
    "            for row in csv.DictReader(f):\n",
    "\n",
    "                username = row[\"Username\"].strip()\n",
    "                domicile = row[\"Domicile\"].strip()\n",
    "                student_number = row['Student Number'].strip()\n",
    "                username = row[\"Username\"].strip()\n",
    "                \n",
    "                # Add username\n",
    "                if username in student_names and student_number not in usernames: \n",
    "                    usernames[student_number] = username \n",
    "\n",
    "                # Add domicile\n",
    "                if username in student_names and username not in domiciles:\n",
    "                    domiciles[username] = domicile\n",
    "                    \n",
    "    # Students not present in the files\n",
    "    not_present = [ student_name for student_name in student_names if student_name not in domiciles ]\n",
    "                    \n",
    "    return usernames, domiciles, not_present"
   ]
  },
  {
   "cell_type": "code",
   "execution_count": 16,
   "metadata": {
    "collapsed": true
   },
   "outputs": [],
   "source": [
    "usernames = {}\n",
    "domiciles = {}\n",
    "not_present = {}"
   ]
  },
  {
   "cell_type": "markdown",
   "metadata": {},
   "source": [
    "2016 / 2017 academic year:"
   ]
  },
  {
   "cell_type": "code",
   "execution_count": 17,
   "metadata": {},
   "outputs": [
    {
     "name": "stdout",
     "output_type": "stream",
     "text": [
      "Reading ../../data/demographics/2017_bio_I.csv\n",
      "Reading ../../data/demographics/2017_bio_II.csv\n"
     ]
    }
   ],
   "source": [
    "_year = (2016, 2017)\n",
    "usernames[_year], domiciles[_year], not_present[_year] = get_demographic_data(_year)"
   ]
  },
  {
   "cell_type": "markdown",
   "metadata": {},
   "source": [
    "2017 / 2018 academic year:"
   ]
  },
  {
   "cell_type": "code",
   "execution_count": 18,
   "metadata": {},
   "outputs": [
    {
     "name": "stdout",
     "output_type": "stream",
     "text": [
      "Reading ../../data/demographics/2018_bio.csv\n"
     ]
    }
   ],
   "source": [
    "_year = (2017, 2018)\n",
    "usernames[_year], domiciles[_year], not_present[_year] = get_demographic_data(_year)"
   ]
  },
  {
   "cell_type": "markdown",
   "metadata": {},
   "source": [
    "2018 / 2019 academic year:"
   ]
  },
  {
   "cell_type": "code",
   "execution_count": 19,
   "metadata": {},
   "outputs": [
    {
     "name": "stdout",
     "output_type": "stream",
     "text": [
      "Reading ../../data/demographics/2019_bio.csv\n"
     ]
    }
   ],
   "source": [
    "_year = (2018, 2019)\n",
    "usernames[_year], domiciles[_year], not_present[_year] = get_demographic_data(_year)"
   ]
  },
  {
   "cell_type": "code",
   "execution_count": 20,
   "metadata": {},
   "outputs": [
    {
     "name": "stdout",
     "output_type": "stream",
     "text": [
      "(2016, 2017) # usernames: 115, # domiciles: 115, # students not present: 10\n",
      "(2017, 2018) # usernames: 156, # domiciles: 156, # students not present: 0\n",
      "(2018, 2019) # usernames: 129, # domiciles: 129, # students not present: 0\n"
     ]
    }
   ],
   "source": [
    "for _year in _years:\n",
    "    print('{} # usernames: {}, # domiciles: {}, # students not present: {}'.format(\n",
    "        _year, len(usernames[_year]), len(domiciles[_year]), len(not_present[_year])))"
   ]
  },
  {
   "cell_type": "markdown",
   "metadata": {},
   "source": [
    "### CAO Points and Leaving Cert exams\n",
    "\n",
    "Calculate score for Leaving Cert Maths based on the grades "
   ]
  },
  {
   "cell_type": "code",
   "execution_count": 21,
   "metadata": {
    "collapsed": true
   },
   "outputs": [],
   "source": [
    "# http://www.cao.ie/index.php?page=points_calc\n",
    "# http://www2.cao.ie/points/l8.php#dc8\n",
    "# Different marking systems for:\n",
    "# 1993-2016 Exams\n",
    "# 2017-onwards Exams\n",
    "def get_lc_exam_points(subject, level, grade):\n",
    "    if subject == \"MTH\":\n",
    "        return get_lc_math_points(level, grade)\n",
    "    else:\n",
    "        return get_lc_other_subject_points(level, grade)\n",
    "    # LCV exam has a different marking system"
   ]
  },
  {
   "cell_type": "code",
   "execution_count": 22,
   "metadata": {
    "collapsed": true
   },
   "outputs": [],
   "source": [
    "def get_lc_math_points(level, grade):\n",
    "    # Math Cert Level\n",
    "    # Leaving Cert Level\n",
    "    # Leaving Cert Grade\n",
    "    if level == \"H\": # Higher\n",
    "        if grade == \"A1\" or grade == \"A\" or grade == \"H1\":\n",
    "            return 125\n",
    "        elif grade == \"A2\" or grade == \"B1\" or grade == \"B\" or grade == \"H2\":\n",
    "            return 113\n",
    "        elif grade == \"B2\" or grade == \"B3\" or grade == \"H3\":\n",
    "            return 102\n",
    "        elif grade == \"C1\" or grade == \"C2\" or grade == \"C\" or grade == \"H4\":\n",
    "            return 91\n",
    "        elif grade == \"C3\" or grade == \"D1\" or grade == \"D\" or grade == \"H5\":\n",
    "            return 81\n",
    "        elif grade == \"D2\" or grade == \"D3\" or grade == \"H6\":\n",
    "            return 71\n",
    "        elif grade == \"H7\":\n",
    "            return 37\n",
    "        elif grade == \"E\":\n",
    "            return 33\n",
    "        elif grade == \"F\" or grade == \"H8\":\n",
    "            return 0\n",
    "    elif level == \"O\":\n",
    "        if grade == \"A1\" or grade == \"A\" or grade == \"O1\":\n",
    "            return 56\n",
    "        elif grade == \"A2\" or grade == \"B1\" or grade == \"B\" or grade == \"O2\":\n",
    "            return 46\n",
    "        elif grade == \"B2\" or grade == \"B3\" or grade == \"O3\":\n",
    "            return 37\n",
    "        elif grade == \"C1\" or grade == \"C2\" or grade == \"C\" or grade == \"O4\":\n",
    "            return 28\n",
    "        elif grade == \"C3\" or grade == \"D1\" or grade == \"D\" or grade == \"O5\":\n",
    "            return 20\n",
    "        elif grade == \"D2\" or grade == \"D3\" or grade == \"O6\":\n",
    "            return 12\n",
    "        elif grade == \"E\" or grade == \"F\" or grade == \"O7\" or grade == \"O8\":\n",
    "            return 0\n",
    "    return None\n",
    "\n",
    "\n",
    "def get_lc_other_subject_points(level, grade):\n",
    "    # Subject Leaving Cert Points (Not Math)\n",
    "    # Leaving Cert Level\n",
    "    # Leaving Cert Grade\n",
    "    if level == \"H\": # Higher\n",
    "        if grade == \"A1\" or grade == \"A\" or grade == \"H1\":\n",
    "            return 100\n",
    "        elif grade == \"A2\" or grade == \"B1\" or grade == \"B\" or grade == \"H2\":\n",
    "            return 88\n",
    "        elif grade == \"B2\" or grade == \"B3\" or grade == \"H3\":\n",
    "            return 77\n",
    "        elif grade == \"C1\" or grade == \"C2\" or grade == \"C\" or grade == \"H4\":\n",
    "            return 66\n",
    "        elif grade == \"C3\" or grade == \"D1\" or grade == \"D\" or grade == \"H5\":\n",
    "            return 56\n",
    "        elif grade == \"D2\" or grade == \"D3\" or grade == \"H6\":\n",
    "            return 46\n",
    "        elif grade == \"H7\":\n",
    "            return 37\n",
    "        elif grade == \"E\":\n",
    "            return 33\n",
    "        elif grade == \"F\" or grade == \"H8\":\n",
    "            return 0\n",
    "    elif level == \"O\":\n",
    "        if grade == \"A1\" or grade == \"A\" or grade == \"O1\":\n",
    "            return 56\n",
    "        elif grade == \"A2\" or grade == \"B1\" or grade == \"B\" or grade == \"O2\":\n",
    "            return 46\n",
    "        elif grade == \"B2\" or grade == \"B3\" or grade == \"O3\":\n",
    "            return 37\n",
    "        elif grade == \"C1\" or grade == \"C2\" or grade == \"C\" or grade == \"O4\":\n",
    "            return 28\n",
    "        elif grade == \"C3\" or grade == \"D1\" or grade == \"D\" or grade == \"O5\":\n",
    "            return 20\n",
    "        elif grade == \"D2\" or grade == \"D3\" or grade == \"O6\":\n",
    "            return 12\n",
    "        elif grade == \"E\" or grade == \"F\" or grade == \"O7\" or grade == \"O8\":\n",
    "            return 0\n",
    "    return None\n"
   ]
  },
  {
   "cell_type": "markdown",
   "metadata": {},
   "source": [
    "Dictionary of points every academic year:"
   ]
  },
  {
   "cell_type": "code",
   "execution_count": 23,
   "metadata": {
    "collapsed": true
   },
   "outputs": [],
   "source": [
    "def get_cao_data(years, usernames):\n",
    "    \n",
    "    # Students\n",
    "    student_names = students[years]   \n",
    "        \n",
    "    # CAO\n",
    "    cao_points = {}\n",
    "    math_grades = {}\n",
    "        \n",
    "    for filename in cao_filenames[years]:\n",
    "\n",
    "        print('Reading {}'.format(filename))\n",
    "        \n",
    "        with open(filename, encoding='utf-8-sig') as f:\n",
    "\n",
    "            for row in csv.DictReader(f):\n",
    "\n",
    "                if \"Username\" in row:\n",
    "                    username = row[\"Username\"].strip()\n",
    "                else:\n",
    "                    student_number = row[\"Student Number\"].strip()\n",
    "                    \n",
    "                    if student_number not in usernames:\n",
    "                        continue\n",
    "                    \n",
    "                    username = usernames[student_number]\n",
    "                \n",
    "                points = row[\"CAO Points\"].strip()\n",
    "\n",
    "                if username in student_names and username not in cao_points:\n",
    "\n",
    "                    cao_points[username] = points\n",
    "                    \n",
    "                if username in student_names and \"Subject\" in row and row[\"Subject\"].strip() == 'MTH' \\\n",
    "                and username not in math_grades:\n",
    "                    \n",
    "                    grade = row[\"Grade\"].strip()\n",
    "                    symbol = row[\"Symbol\"].strip()\n",
    "                    math_grades[username] = get_lc_exam_points('MTH', grade, symbol)     \n",
    "                    \n",
    "    not_present_cao = [ student_name for student_name in student_names if student_name not in cao_points ]\n",
    "                    \n",
    "    return cao_points, math_grades, not_present_cao"
   ]
  },
  {
   "cell_type": "code",
   "execution_count": 24,
   "metadata": {
    "collapsed": true
   },
   "outputs": [],
   "source": [
    "cao_points = {}\n",
    "math_grades = {}\n",
    "not_present_cao = {}"
   ]
  },
  {
   "cell_type": "code",
   "execution_count": 25,
   "metadata": {},
   "outputs": [
    {
     "name": "stdout",
     "output_type": "stream",
     "text": [
      "Reading ../../data/demographics/2017_leaving_cert_I.csv\n",
      "Reading ../../data/demographics/2017_leaving_cert_II.csv\n",
      "Reading ../../data/demographics/2017_leaving_cert_III.csv\n",
      "Reading ../../data/demographics/2017_leaving_cert_IV.csv\n",
      "Reading ../../data/demographics/2017_leaving_cert_V.csv\n",
      "Reading ../../data/demographics/2017_leaving_cert_VI.csv\n"
     ]
    }
   ],
   "source": [
    "_year = (2016, 2017)\n",
    "cao_points[_year], math_grades[_year], not_present_cao[_year] = get_cao_data(_year, usernames[_year])"
   ]
  },
  {
   "cell_type": "code",
   "execution_count": 26,
   "metadata": {},
   "outputs": [
    {
     "name": "stdout",
     "output_type": "stream",
     "text": [
      "Reading ../../data/demographics/2018_leaving_cert_I.csv\n",
      "Reading ../../data/demographics/2018_leaving_cert_II.csv\n"
     ]
    }
   ],
   "source": [
    "_year = (2017, 2018)\n",
    "cao_points[_year], math_grades[_year], not_present_cao[_year] = get_cao_data(_year, usernames[_year])"
   ]
  },
  {
   "cell_type": "code",
   "execution_count": 27,
   "metadata": {},
   "outputs": [
    {
     "name": "stdout",
     "output_type": "stream",
     "text": [
      "Reading ../../data/demographics/2019_leaving_cert.csv\n"
     ]
    }
   ],
   "source": [
    "_year = (2018, 2019)\n",
    "cao_points[_year], math_grades[_year], not_present_cao[_year] = get_cao_data(_year, usernames[_year])"
   ]
  },
  {
   "cell_type": "code",
   "execution_count": 28,
   "metadata": {},
   "outputs": [
    {
     "name": "stdout",
     "output_type": "stream",
     "text": [
      "(2016, 2017) # usernames: 115, # cao_points: 122, # math grades: 115, # students not present in CAO: 3\n",
      "(2017, 2018) # usernames: 156, # cao_points: 151, # math grades: 151, # students not present in CAO: 5\n",
      "(2018, 2019) # usernames: 129, # cao_points: 114, # math grades: 114, # students not present in CAO: 15\n"
     ]
    }
   ],
   "source": [
    "for _year in _years:\n",
    "    print('{} # usernames: {}, # cao_points: {}, # math grades: {}, # students not present in CAO: {}'.format(\n",
    "        _year, len(usernames[_year]), len(cao_points[_year]), len(math_grades[_year]), len(not_present_cao[_year])))"
   ]
  },
  {
   "cell_type": "markdown",
   "metadata": {},
   "source": [
    "### Gather data"
   ]
  },
  {
   "cell_type": "code",
   "execution_count": 29,
   "metadata": {
    "collapsed": true,
    "scrolled": false
   },
   "outputs": [],
   "source": [
    "data = []\n",
    "\n",
    "for _year in _years:\n",
    "    \n",
    "    for _student_name in students[_year]:\n",
    "        \n",
    "        domicile = domiciles[_year][_student_name] if _student_name in domiciles[_year] else float('nan')\n",
    "        cao = cao_points[_year][_student_name] if _student_name in cao_points[_year] else float('nan')\n",
    "        math = math_grades[_year][_student_name] if _student_name in math_grades[_year] else float('nan')\n",
    "        \n",
    "        # print('Year: {}, Student: {}, Domicile: {}, CAO: {}, Math: {}'.format(\n",
    "        #     _year, _student_name, domicile, cao, math))\n",
    "        \n",
    "        data.append({\n",
    "            'academic_year_0': _year[0],\n",
    "            'academic_year_1': _year[1],\n",
    "            'student': _student_name,\n",
    "            'domicile': domicile,\n",
    "            'cao_points': cao,\n",
    "            'math_leaving_cert': math,\n",
    "        })"
   ]
  },
  {
   "cell_type": "code",
   "execution_count": 30,
   "metadata": {
    "collapsed": true
   },
   "outputs": [],
   "source": [
    "with open(os.path.join(path, 'summary.json'), 'w') as outfile:  \n",
    "    json.dump(data, outfile)"
   ]
  },
  {
   "cell_type": "code",
   "execution_count": 31,
   "metadata": {},
   "outputs": [
    {
     "name": "stdout",
     "output_type": "stream",
     "text": [
      "../../data/demographics/summary.json\r\n"
     ]
    }
   ],
   "source": [
    "ls '../../data/demographics/summary.json'"
   ]
  },
  {
   "cell_type": "markdown",
   "metadata": {},
   "source": [
    "### Exploring the new dataset"
   ]
  },
  {
   "cell_type": "code",
   "execution_count": 32,
   "metadata": {
    "collapsed": true
   },
   "outputs": [],
   "source": [
    "df = pd.DataFrame(data)"
   ]
  },
  {
   "cell_type": "code",
   "execution_count": 33,
   "metadata": {},
   "outputs": [
    {
     "data": {
      "text/html": [
       "<div>\n",
       "<style scoped>\n",
       "    .dataframe tbody tr th:only-of-type {\n",
       "        vertical-align: middle;\n",
       "    }\n",
       "\n",
       "    .dataframe tbody tr th {\n",
       "        vertical-align: top;\n",
       "    }\n",
       "\n",
       "    .dataframe thead th {\n",
       "        text-align: right;\n",
       "    }\n",
       "</style>\n",
       "<table border=\"1\" class=\"dataframe\">\n",
       "  <thead>\n",
       "    <tr style=\"text-align: right;\">\n",
       "      <th></th>\n",
       "      <th>academic_year_0</th>\n",
       "      <th>academic_year_1</th>\n",
       "      <th>cao_points</th>\n",
       "      <th>domicile</th>\n",
       "      <th>math_leaving_cert</th>\n",
       "      <th>student</th>\n",
       "    </tr>\n",
       "  </thead>\n",
       "  <tbody>\n",
       "    <tr>\n",
       "      <th>0</th>\n",
       "      <td>2016</td>\n",
       "      <td>2017</td>\n",
       "      <td>450</td>\n",
       "      <td>75</td>\n",
       "      <td>81.0</td>\n",
       "      <td>afanaa2</td>\n",
       "    </tr>\n",
       "    <tr>\n",
       "      <th>1</th>\n",
       "      <td>2016</td>\n",
       "      <td>2017</td>\n",
       "      <td>465</td>\n",
       "      <td>67</td>\n",
       "      <td>91.0</td>\n",
       "      <td>agnewm4</td>\n",
       "    </tr>\n",
       "    <tr>\n",
       "      <th>2</th>\n",
       "      <td>2016</td>\n",
       "      <td>2017</td>\n",
       "      <td>425</td>\n",
       "      <td>11</td>\n",
       "      <td>46.0</td>\n",
       "      <td>ahernes3</td>\n",
       "    </tr>\n",
       "    <tr>\n",
       "      <th>3</th>\n",
       "      <td>2016</td>\n",
       "      <td>2017</td>\n",
       "      <td>NaN</td>\n",
       "      <td>NaN</td>\n",
       "      <td>NaN</td>\n",
       "      <td>alamila2</td>\n",
       "    </tr>\n",
       "    <tr>\n",
       "      <th>4</th>\n",
       "      <td>2016</td>\n",
       "      <td>2017</td>\n",
       "      <td>976</td>\n",
       "      <td>60</td>\n",
       "      <td>37.0</td>\n",
       "      <td>alsafaf2</td>\n",
       "    </tr>\n",
       "  </tbody>\n",
       "</table>\n",
       "</div>"
      ],
      "text/plain": [
       "   academic_year_0  academic_year_1 cao_points domicile  math_leaving_cert  \\\n",
       "0             2016             2017        450       75               81.0   \n",
       "1             2016             2017        465       67               91.0   \n",
       "2             2016             2017        425       11               46.0   \n",
       "3             2016             2017        NaN      NaN                NaN   \n",
       "4             2016             2017        976       60               37.0   \n",
       "\n",
       "    student  \n",
       "0   afanaa2  \n",
       "1   agnewm4  \n",
       "2  ahernes3  \n",
       "3  alamila2  \n",
       "4  alsafaf2  "
      ]
     },
     "execution_count": 33,
     "metadata": {},
     "output_type": "execute_result"
    }
   ],
   "source": [
    "df.head()"
   ]
  },
  {
   "cell_type": "code",
   "execution_count": 34,
   "metadata": {},
   "outputs": [
    {
     "data": {
      "text/plain": [
       "academic_year_0        int64\n",
       "academic_year_1        int64\n",
       "cao_points            object\n",
       "domicile              object\n",
       "math_leaving_cert    float64\n",
       "student               object\n",
       "dtype: object"
      ]
     },
     "execution_count": 34,
     "metadata": {},
     "output_type": "execute_result"
    }
   ],
   "source": [
    "df.dtypes"
   ]
  },
  {
   "cell_type": "code",
   "execution_count": 35,
   "metadata": {
    "collapsed": true
   },
   "outputs": [],
   "source": [
    "df['cao_points'] = pd.to_numeric(df['cao_points'], errors='coerce')"
   ]
  },
  {
   "cell_type": "code",
   "execution_count": 36,
   "metadata": {},
   "outputs": [
    {
     "data": {
      "image/png": "[encoded data removed]",
      "text/plain": [
       "<Figure size 1152x576 with 1 Axes>"
      ]
     },
     "metadata": {
      "needs_background": "light"
     },
     "output_type": "display_data"
    }
   ],
   "source": [
    "fig = pd.cut(df['cao_points'], bins=range(0, 1000, 50), include_lowest=True).\\\n",
    "    value_counts(sort=False).plot.barh(rot=0, color=\"blue\", figsize=(16, 8))"
   ]
  },
  {
   "cell_type": "code",
   "execution_count": 37,
   "metadata": {},
   "outputs": [
    {
     "data": {
      "image/png": "[encoded data removed]",
      "text/plain": [
       "<Figure size 1152x1152 with 1 Axes>"
      ]
     },
     "metadata": {
      "needs_background": "light"
     },
     "output_type": "display_data"
    }
   ],
   "source": [
    "fig = df.plot.scatter(\n",
    "    x='cao_points',\n",
    "    y='math_leaving_cert',\n",
    "    c='DarkBlue', \n",
    "    alpha=0.5,\n",
    "    figsize=(16, 16)\n",
    ")"
   ]
  },
  {
   "cell_type": "code",
   "execution_count": 38,
   "metadata": {
    "collapsed": true
   },
   "outputs": [],
   "source": [
    "fig.get_figure().savefig('../../figures/exploring_CAO_Points_Math_LC.png', bbox_inches=\"tight\")"
   ]
  },
  {
   "cell_type": "code",
   "execution_count": 39,
   "metadata": {},
   "outputs": [
    {
     "data": {
      "text/html": [
       "<div>\n",
       "<style scoped>\n",
       "    .dataframe tbody tr th:only-of-type {\n",
       "        vertical-align: middle;\n",
       "    }\n",
       "\n",
       "    .dataframe tbody tr th {\n",
       "        vertical-align: top;\n",
       "    }\n",
       "\n",
       "    .dataframe thead th {\n",
       "        text-align: right;\n",
       "    }\n",
       "</style>\n",
       "<table border=\"1\" class=\"dataframe\">\n",
       "  <thead>\n",
       "    <tr style=\"text-align: right;\">\n",
       "      <th></th>\n",
       "      <th>academic_year_0</th>\n",
       "      <th>academic_year_1</th>\n",
       "      <th>cao_points</th>\n",
       "      <th>math_leaving_cert</th>\n",
       "    </tr>\n",
       "  </thead>\n",
       "  <tbody>\n",
       "    <tr>\n",
       "      <th>academic_year_0</th>\n",
       "      <td>NaN</td>\n",
       "      <td>NaN</td>\n",
       "      <td>NaN</td>\n",
       "      <td>NaN</td>\n",
       "    </tr>\n",
       "    <tr>\n",
       "      <th>academic_year_1</th>\n",
       "      <td>NaN</td>\n",
       "      <td>NaN</td>\n",
       "      <td>NaN</td>\n",
       "      <td>NaN</td>\n",
       "    </tr>\n",
       "    <tr>\n",
       "      <th>cao_points</th>\n",
       "      <td>NaN</td>\n",
       "      <td>NaN</td>\n",
       "      <td>1.000000</td>\n",
       "      <td>-0.042906</td>\n",
       "    </tr>\n",
       "    <tr>\n",
       "      <th>math_leaving_cert</th>\n",
       "      <td>NaN</td>\n",
       "      <td>NaN</td>\n",
       "      <td>-0.042906</td>\n",
       "      <td>1.000000</td>\n",
       "    </tr>\n",
       "  </tbody>\n",
       "</table>\n",
       "</div>"
      ],
      "text/plain": [
       "                   academic_year_0  academic_year_1  cao_points  \\\n",
       "academic_year_0                NaN              NaN         NaN   \n",
       "academic_year_1                NaN              NaN         NaN   \n",
       "cao_points                     NaN              NaN    1.000000   \n",
       "math_leaving_cert              NaN              NaN   -0.042906   \n",
       "\n",
       "                   math_leaving_cert  \n",
       "academic_year_0                  NaN  \n",
       "academic_year_1                  NaN  \n",
       "cao_points                 -0.042906  \n",
       "math_leaving_cert           1.000000  "
      ]
     },
     "execution_count": 39,
     "metadata": {},
     "output_type": "execute_result"
    }
   ],
   "source": [
    "df[ (df['cao_points'] > 300) & (df['cao_points'] > 650)].corr()"
   ]
  },
  {
   "cell_type": "code",
   "execution_count": 40,
   "metadata": {
    "collapsed": true
   },
   "outputs": [],
   "source": [
    "df.to_csv('../../data/demographics/summary.csv', index=False)"
   ]
  },
  {
   "cell_type": "code",
   "execution_count": 41,
   "metadata": {
    "collapsed": true
   },
   "outputs": [],
   "source": [
    "cao_dict = {\n",
    "    (878, 878): 'Mature',\n",
    "    (999, 999): 'Deferrals',\n",
    "    (777, 777): 'FETAC',\n",
    "    (888, 888): 'McAlleese',\n",
    "    (978, 979): 'HEAR',\n",
    "    (968, 969): 'DARE',\n",
    "    (976, 976): 'Access',\n",
    "    (778, 778): 'Colaiste Dhulaigh Science',\n",
    "    (669, 669): 'ELITE Sports',\n",
    "}"
   ]
  },
  {
   "cell_type": "code",
   "execution_count": 42,
   "metadata": {},
   "outputs": [
    {
     "name": "stdout",
     "output_type": "stream",
     "text": [
      "Mature route: 2 students\n",
      "Deferrals route: 1 students\n",
      "FETAC route: 0 students\n",
      "McAlleese route: 0 students\n",
      "HEAR route: 18 students\n",
      "DARE route: 3 students\n",
      "Access route: 2 students\n",
      "Colaiste Dhulaigh Science route: 0 students\n",
      "ELITE Sports route: 3 students\n"
     ]
    }
   ],
   "source": [
    "for k, v in cao_dict.items():\n",
    "    low, high = k\n",
    "    values = df[(df['cao_points'] >= low) & \n",
    "                (df['cao_points'] <= high)]\n",
    "    print('{} route: {} students'.format(v, len(values)))"
   ]
  }
 ],
 "metadata": {
  "kernelspec": {
   "display_name": "Python 3",
   "language": "python",
   "name": "python3"
  },
  "language_info": {
   "codemirror_mode": {
    "name": "ipython",
    "version": 3
   },
   "file_extension": ".py",
   "mimetype": "text/x-python",
   "name": "python",
   "nbconvert_exporter": "python",
   "pygments_lexer": "ipython3",
   "version": "3.6.5"
  }
 },
 "nbformat": 4,
 "nbformat_minor": 2
}

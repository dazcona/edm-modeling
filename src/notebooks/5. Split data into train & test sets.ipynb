{
 "cells": [
  {
   "cell_type": "markdown",
   "metadata": {},
   "source": [
    "# Split data into train & test sets"
   ]
  },
  {
   "cell_type": "code",
   "execution_count": 3,
   "metadata": {},
   "outputs": [],
   "source": [
    "import pandas as pd\n",
    "import numpy as np\n",
    "import json\n",
    "from sklearn.model_selection import train_test_split\n",
    "from sklearn.model_selection import ShuffleSplit\n",
    "from sklearn.model_selection import cross_val_score\n",
    "from sklearn.linear_model import LogisticRegression\n",
    "from sklearn.ensemble import RandomForestClassifier"
   ]
  },
  {
   "cell_type": "code",
   "execution_count": 4,
   "metadata": {},
   "outputs": [],
   "source": [
    "_course = 'ca116'"
   ]
  },
  {
   "cell_type": "code",
   "execution_count": 5,
   "metadata": {},
   "outputs": [],
   "source": [
    "_years = [\n",
    "    (2016, 2017),\n",
    "    (2017, 2018),\n",
    "    (2018, 2019),\n",
    "]"
   ]
  },
  {
   "cell_type": "code",
   "execution_count": 6,
   "metadata": {},
   "outputs": [],
   "source": [
    "exams = [4, 8, 12]"
   ]
  },
  {
   "cell_type": "code",
   "execution_count": 7,
   "metadata": {},
   "outputs": [],
   "source": [
    "THRESHOLD = 40"
   ]
  },
  {
   "cell_type": "code",
   "execution_count": 8,
   "metadata": {},
   "outputs": [],
   "source": [
    "SPLIT = 0.2"
   ]
  },
  {
   "cell_type": "code",
   "execution_count": 9,
   "metadata": {},
   "outputs": [
    {
     "name": "stdout",
     "output_type": "stream",
     "text": [
      "-rw-r--r--  1 dazconap  staff  1711140 Apr  9 19:53 ../../data/features/features_CA116_2017.json\n",
      "-rw-r--r--  1 dazconap  staff  2227002 Apr  9 20:10 ../../data/features/features_CA116_2018.json\n",
      "-rw-r--r--  1 dazconap  staff  1844783 Apr  9 21:53 ../../data/features/features_CA116_2019.json\n"
     ]
    }
   ],
   "source": [
    "for _year in _years:\n",
    "    filename = '../../data/features/features_%s_%s.json' % (_course.upper(), _year[1])\n",
    "    !ls -l \"$filename\""
   ]
  },
  {
   "cell_type": "code",
   "execution_count": 10,
   "metadata": {},
   "outputs": [],
   "source": [
    "students = {}\n",
    "features = {}\n",
    "\n",
    "for _year in _years:\n",
    "    filename = '../../data/features/features_%s_%s.json' % (_course.upper(), _year[1])\n",
    "    with open(filename) as f:\n",
    "        data = json.load(f)\n",
    "    features[_year] = data\n",
    "    students[_year] = set([ feature['student'] for feature in data ])"
   ]
  },
  {
   "cell_type": "code",
   "execution_count": 11,
   "metadata": {
    "scrolled": true
   },
   "outputs": [
    {
     "name": "stdout",
     "output_type": "stream",
     "text": [
      "Year: (2016, 2017), Students: 126, Features: 1512\n",
      "Year: (2017, 2018), Students: 156, Features: 1872\n",
      "Year: (2018, 2019), Students: 130, Features: 1560\n"
     ]
    }
   ],
   "source": [
    "for _year in _years:\n",
    "    print('Year: {}, Students: {}, Features: {}'.format(_year, len(students[_year]), len(features[_year])))"
   ]
  },
  {
   "cell_type": "code",
   "execution_count": 12,
   "metadata": {},
   "outputs": [],
   "source": [
    "training_and_validation_years = [\n",
    "    (2016, 2017),\n",
    "    (2017, 2018)\n",
    "]\n",
    "\n",
    "test_year = (2018, 2019)"
   ]
  },
  {
   "cell_type": "code",
   "execution_count": 11,
   "metadata": {},
   "outputs": [
    {
     "name": "stdout",
     "output_type": "stream",
     "text": [
      "Exam: 4\n",
      "Year: (2016, 2017), Exam Week: 4, Train: 100-100 Validation: 26-26\n",
      "Year: (2017, 2018), Exam Week: 4, Train: 124-124 Validation: 32-32\n",
      "Exam: 8\n",
      "Year: (2016, 2017), Exam Week: 8, Train: 100-100 Validation: 26-26\n",
      "Year: (2017, 2018), Exam Week: 8, Train: 124-124 Validation: 32-32\n",
      "Exam: 12\n",
      "Year: (2016, 2017), Exam Week: 12, Train: 100-100 Validation: 26-26\n",
      "Year: (2017, 2018), Exam Week: 12, Train: 124-124 Validation: 32-32\n"
     ]
    }
   ],
   "source": [
    "for _exam in exams:\n",
    "\n",
    "    print('Exam: {}'.format(_exam))\n",
    "    \n",
    "    X_train = []\n",
    "    X_val = []\n",
    "    \n",
    "    for _year in training_and_validation_years:\n",
    "    \n",
    "        df = pd.DataFrame(features[_year])\n",
    "        \n",
    "        # print(df.head(2))\n",
    "    \n",
    "        dataframe = df[(df['exam'] == _exam) & (df['week'] == _exam)][[\n",
    "            'student', 'grade', 'academic_year_0', 'academic_year_1']]\n",
    "\n",
    "        # print(dataframe.head(2))\n",
    "        \n",
    "        X = list(dataframe['student'])\n",
    "        y = list(dataframe['grade'] < THRESHOLD)\n",
    "        \n",
    "        # TRAIN / TEST split\n",
    "        _X_train, _X_val, _y_train, _y_val = train_test_split(X, y, test_size=SPLIT, random_state=42)\n",
    "\n",
    "        print('Year: {}, Exam Week: {}, Train: {}-{} Validation: {}-{}'.format(\n",
    "            _year, _exam, len(_X_train), len(_y_train), len(_X_val), len(_y_val)))\n",
    "        \n",
    "        X_train.extend(_X_train)\n",
    "        X_val.extend(_X_val)\n",
    "        \n",
    "    np.save('../../data/features/X_train_{}.npy'.format(_exam), X_train)\n",
    "    np.save('../../data/features/X_val_{}.npy'.format(_exam), X_val)"
   ]
  },
  {
   "cell_type": "code",
   "execution_count": 14,
   "metadata": {},
   "outputs": [
    {
     "name": "stdout",
     "output_type": "stream",
     "text": [
      "Exam: 4\n",
      "Exam: 8\n",
      "Exam: 12\n"
     ]
    }
   ],
   "source": [
    "for _exam in exams:\n",
    "\n",
    "    print('Exam: {}'.format(_exam))\n",
    "    \n",
    "    df = pd.DataFrame(features[test_year])\n",
    "\n",
    "    dataframe = df[(df['exam'] == _exam) & (df['week'] == _exam)][[\n",
    "        'student', 'grade', 'academic_year_0', 'academic_year_1']]\n",
    "\n",
    "    X_test = list(dataframe['student'])\n",
    "    y_test = list(dataframe['grade'] < THRESHOLD)\n",
    "        \n",
    "    np.save('../../data/features/X_test_{}.npy'.format(_exam), X_test)\n",
    "    np.save('../../data/features/y_test_{}.npy'.format(_exam), y_test)"
   ]
  },
  {
   "cell_type": "code",
   "execution_count": null,
   "metadata": {},
   "outputs": [],
   "source": []
  }
 ],
 "metadata": {
  "kernelspec": {
   "display_name": "Python 3",
   "language": "python",
   "name": "python3"
  },
  "language_info": {
   "codemirror_mode": {
    "name": "ipython",
    "version": 3
   },
   "file_extension": ".py",
   "mimetype": "text/x-python",
   "name": "python",
   "nbconvert_exporter": "python",
   "pygments_lexer": "ipython3",
   "version": "3.6.5"
  }
 },
 "nbformat": 4,
 "nbformat_minor": 2
}

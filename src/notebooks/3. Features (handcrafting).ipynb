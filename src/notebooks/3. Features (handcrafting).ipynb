{
 "cells": [
  {
   "cell_type": "markdown",
   "metadata": {},
   "source": [
    "# Handcrafting Features"
   ]
  },
  {
   "cell_type": "markdown",
   "metadata": {},
   "source": [
    "Importing libraries:"
   ]
  },
  {
   "cell_type": "code",
   "execution_count": 1,
   "metadata": {},
   "outputs": [],
   "source": [
    "import pandas as pd\n",
    "import datetime\n",
    "import json\n",
    "import numpy as np\n",
    "import matplotlib.pyplot as plt\n",
    "%matplotlib inline"
   ]
  },
  {
   "cell_type": "markdown",
   "metadata": {},
   "source": [
    "## Programming work\n",
    "\n",
    "Computer programming work students submit to a grading platform"
   ]
  },
  {
   "cell_type": "code",
   "execution_count": 2,
   "metadata": {},
   "outputs": [],
   "source": [
    "df_programs = pd.read_json('../../data/raw/programming.json')"
   ]
  },
  {
   "cell_type": "code",
   "execution_count": 3,
   "metadata": {},
   "outputs": [],
   "source": [
    "# df_programs.head(2)"
   ]
  },
  {
   "cell_type": "code",
   "execution_count": 4,
   "metadata": {},
   "outputs": [
    {
     "data": {
      "text/plain": [
       "(Timestamp('2015-12-16 16:35:56'), Timestamp('2018-12-16 08:46:56'))"
      ]
     },
     "execution_count": 4,
     "metadata": {},
     "output_type": "execute_result"
    }
   ],
   "source": [
    "min(df_programs['date']), max(df_programs['date'])"
   ]
  },
  {
   "cell_type": "code",
   "execution_count": 5,
   "metadata": {},
   "outputs": [],
   "source": [
    "def get_programs(course, start, end):\n",
    "    return df_programs[(df_programs['module'] == course) &\n",
    "                       (df_programs['date'] >= start) & \n",
    "                       (df_programs['date'] <= end)]"
   ]
  },
  {
   "cell_type": "markdown",
   "metadata": {},
   "source": [
    "## Demographic & Academics data"
   ]
  },
  {
   "cell_type": "code",
   "execution_count": 6,
   "metadata": {},
   "outputs": [],
   "source": [
    "df_demographics = pd.read_csv('../../data/demographics/summary.csv')"
   ]
  },
  {
   "cell_type": "code",
   "execution_count": 7,
   "metadata": {},
   "outputs": [],
   "source": [
    "# df_demographics.head(2)"
   ]
  },
  {
   "cell_type": "code",
   "execution_count": 8,
   "metadata": {},
   "outputs": [
    {
     "data": {
      "text/plain": [
       "academic_year_0        int64\n",
       "academic_year_1        int64\n",
       "cao_points           float64\n",
       "domicile              object\n",
       "math_leaving_cert    float64\n",
       "student               object\n",
       "dtype: object"
      ]
     },
     "execution_count": 8,
     "metadata": {},
     "output_type": "execute_result"
    }
   ],
   "source": [
    "df_demographics.dtypes"
   ]
  },
  {
   "cell_type": "code",
   "execution_count": 9,
   "metadata": {},
   "outputs": [],
   "source": [
    "def get_demographic_data(academic_year):\n",
    "    return df_demographics[(df_demographics['academic_year_0'] == academic_year[0]) & \n",
    "                           (df_demographics['academic_year_1'] == academic_year[1])]"
   ]
  },
  {
   "cell_type": "code",
   "execution_count": 10,
   "metadata": {},
   "outputs": [
    {
     "data": {
      "text/plain": [
       "125"
      ]
     },
     "execution_count": 10,
     "metadata": {},
     "output_type": "execute_result"
    }
   ],
   "source": [
    "len(get_demographic_data((2016, 2017)))"
   ]
  },
  {
   "cell_type": "markdown",
   "metadata": {},
   "source": [
    "## Web data"
   ]
  },
  {
   "cell_type": "code",
   "execution_count": 11,
   "metadata": {},
   "outputs": [],
   "source": [
    "df_web = pd.read_csv('../../data/raw/web_data.csv')"
   ]
  },
  {
   "cell_type": "code",
   "execution_count": 12,
   "metadata": {},
   "outputs": [
    {
     "data": {
      "text/html": [
       "<div>\n",
       "<style scoped>\n",
       "    .dataframe tbody tr th:only-of-type {\n",
       "        vertical-align: middle;\n",
       "    }\n",
       "\n",
       "    .dataframe tbody tr th {\n",
       "        vertical-align: top;\n",
       "    }\n",
       "\n",
       "    .dataframe thead th {\n",
       "        text-align: right;\n",
       "    }\n",
       "</style>\n",
       "<table border=\"1\" class=\"dataframe\">\n",
       "  <thead>\n",
       "    <tr style=\"text-align: right;\">\n",
       "      <th></th>\n",
       "      <th>date</th>\n",
       "      <th>module</th>\n",
       "      <th>ip</th>\n",
       "      <th>resource</th>\n",
       "      <th>user</th>\n",
       "    </tr>\n",
       "  </thead>\n",
       "  <tbody>\n",
       "    <tr>\n",
       "      <th>0</th>\n",
       "      <td>150921-10:02.49</td>\n",
       "      <td>ca116</td>\n",
       "      <td>136.206.102.206</td>\n",
       "      <td>/</td>\n",
       "      <td>gctest2</td>\n",
       "    </tr>\n",
       "    <tr>\n",
       "      <th>1</th>\n",
       "      <td>150921-10:57.31</td>\n",
       "      <td>ca116</td>\n",
       "      <td>136.206.202.40</td>\n",
       "      <td>/</td>\n",
       "      <td>baranj2</td>\n",
       "    </tr>\n",
       "  </tbody>\n",
       "</table>\n",
       "</div>"
      ],
      "text/plain": [
       "              date module               ip resource     user\n",
       "0  150921-10:02.49  ca116  136.206.102.206        /  gctest2\n",
       "1  150921-10:57.31  ca116   136.206.202.40        /  baranj2"
      ]
     },
     "execution_count": 12,
     "metadata": {},
     "output_type": "execute_result"
    }
   ],
   "source": [
    "df_web.head(2)"
   ]
  },
  {
   "cell_type": "code",
   "execution_count": 13,
   "metadata": {},
   "outputs": [],
   "source": [
    "df_web['date'] = pd.to_datetime(df_web['date'], format='%y%m%d-%H:%M.%S')"
   ]
  },
  {
   "cell_type": "code",
   "execution_count": 14,
   "metadata": {},
   "outputs": [
    {
     "data": {
      "text/html": [
       "<div>\n",
       "<style scoped>\n",
       "    .dataframe tbody tr th:only-of-type {\n",
       "        vertical-align: middle;\n",
       "    }\n",
       "\n",
       "    .dataframe tbody tr th {\n",
       "        vertical-align: top;\n",
       "    }\n",
       "\n",
       "    .dataframe thead th {\n",
       "        text-align: right;\n",
       "    }\n",
       "</style>\n",
       "<table border=\"1\" class=\"dataframe\">\n",
       "  <thead>\n",
       "    <tr style=\"text-align: right;\">\n",
       "      <th></th>\n",
       "      <th>date</th>\n",
       "      <th>module</th>\n",
       "      <th>ip</th>\n",
       "      <th>resource</th>\n",
       "      <th>user</th>\n",
       "    </tr>\n",
       "  </thead>\n",
       "  <tbody>\n",
       "    <tr>\n",
       "      <th>0</th>\n",
       "      <td>2015-09-21 10:02:49</td>\n",
       "      <td>ca116</td>\n",
       "      <td>136.206.102.206</td>\n",
       "      <td>/</td>\n",
       "      <td>gctest2</td>\n",
       "    </tr>\n",
       "    <tr>\n",
       "      <th>1</th>\n",
       "      <td>2015-09-21 10:57:31</td>\n",
       "      <td>ca116</td>\n",
       "      <td>136.206.202.40</td>\n",
       "      <td>/</td>\n",
       "      <td>baranj2</td>\n",
       "    </tr>\n",
       "  </tbody>\n",
       "</table>\n",
       "</div>"
      ],
      "text/plain": [
       "                 date module               ip resource     user\n",
       "0 2015-09-21 10:02:49  ca116  136.206.102.206        /  gctest2\n",
       "1 2015-09-21 10:57:31  ca116   136.206.202.40        /  baranj2"
      ]
     },
     "execution_count": 14,
     "metadata": {},
     "output_type": "execute_result"
    }
   ],
   "source": [
    "df_web.head(2)"
   ]
  },
  {
   "cell_type": "code",
   "execution_count": 15,
   "metadata": {},
   "outputs": [],
   "source": [
    "df_web = df_web[df_web['resource'].str.contains(\".html\")]"
   ]
  },
  {
   "cell_type": "code",
   "execution_count": 16,
   "metadata": {},
   "outputs": [],
   "source": [
    "def get_web_data(course, start, end):\n",
    "    return df_web[(df_web['module'] == course) &\n",
    "                  (df_web['date'] >= start) & \n",
    "                  (df_web['date'] <= end)]"
   ]
  },
  {
   "cell_type": "markdown",
   "metadata": {},
   "source": [
    "## Grades\n",
    "\n",
    "Results on the laboratory computer-based examinations:"
   ]
  },
  {
   "cell_type": "code",
   "execution_count": 17,
   "metadata": {},
   "outputs": [],
   "source": [
    "df_grades = pd.read_json('../../data/raw/grades.json')"
   ]
  },
  {
   "cell_type": "code",
   "execution_count": 18,
   "metadata": {},
   "outputs": [],
   "source": [
    "# df_grades.head(2)"
   ]
  },
  {
   "cell_type": "code",
   "execution_count": 19,
   "metadata": {},
   "outputs": [],
   "source": [
    "def get_grades(course, academic_year):\n",
    "    return df_grades[(df_grades['academic_year_0'] == academic_year[0]) & \n",
    "                     (df_grades['academic_year_1'] == academic_year[1]) & \n",
    "                     (df_grades['module'] == course)]"
   ]
  },
  {
   "cell_type": "code",
   "execution_count": 20,
   "metadata": {},
   "outputs": [],
   "source": [
    "grades_students = get_grades('ca116', (2016, 2017))"
   ]
  },
  {
   "cell_type": "code",
   "execution_count": 21,
   "metadata": {},
   "outputs": [],
   "source": [
    "# grades_students[grades_students['user'] == 'agnewm4']"
   ]
  },
  {
   "cell_type": "code",
   "execution_count": 22,
   "metadata": {},
   "outputs": [],
   "source": [
    "student_names = grades_students.user.unique()"
   ]
  },
  {
   "cell_type": "code",
   "execution_count": 23,
   "metadata": {},
   "outputs": [
    {
     "data": {
      "text/plain": [
       "126"
      ]
     },
     "execution_count": 23,
     "metadata": {},
     "output_type": "execute_result"
    }
   ],
   "source": [
    "len(student_names)"
   ]
  },
  {
   "cell_type": "code",
   "execution_count": 24,
   "metadata": {},
   "outputs": [],
   "source": [
    "exam_weeks = sorted(grades_students.exam_week.unique())"
   ]
  },
  {
   "cell_type": "markdown",
   "metadata": {},
   "source": [
    "Weeks of the exams:"
   ]
  },
  {
   "cell_type": "code",
   "execution_count": 25,
   "metadata": {},
   "outputs": [
    {
     "data": {
      "text/plain": [
       "[4, 8, 12]"
      ]
     },
     "execution_count": 25,
     "metadata": {},
     "output_type": "execute_result"
    }
   ],
   "source": [
    "exam_weeks"
   ]
  },
  {
   "cell_type": "markdown",
   "metadata": {},
   "source": [
    "Dictionary of given a week, which exam should we predicting next?"
   ]
  },
  {
   "cell_type": "code",
   "execution_count": 26,
   "metadata": {},
   "outputs": [],
   "source": [
    "def get_week_to_exam(exam_weeks):\n",
    "    week_to_exam = {}\n",
    "    curr = exam_weeks[-1]\n",
    "    for i in reversed(range(12)):\n",
    "        week = i + 1\n",
    "        if week in exam_weeks:\n",
    "            curr = week\n",
    "        week_to_exam[week] = curr\n",
    "    return week_to_exam"
   ]
  },
  {
   "cell_type": "code",
   "execution_count": 27,
   "metadata": {},
   "outputs": [
    {
     "data": {
      "text/plain": [
       "{12: 12, 11: 12, 10: 12, 9: 12, 8: 8, 7: 8, 6: 8, 5: 8, 4: 4, 3: 4, 2: 4, 1: 4}"
      ]
     },
     "execution_count": 27,
     "metadata": {},
     "output_type": "execute_result"
    }
   ],
   "source": [
    "get_week_to_exam(exam_weeks)"
   ]
  },
  {
   "cell_type": "code",
   "execution_count": 28,
   "metadata": {},
   "outputs": [
    {
     "data": {
      "text/plain": [
       "248"
      ]
     },
     "execution_count": 28,
     "metadata": {},
     "output_type": "execute_result"
    }
   ],
   "source": [
    "len(get_grades('ca116', (2018, 2019)))"
   ]
  },
  {
   "cell_type": "markdown",
   "metadata": {},
   "source": [
    "## Get data about the course\n",
    "\n",
    "Start and end of the semester based on the academic year:"
   ]
  },
  {
   "cell_type": "code",
   "execution_count": 29,
   "metadata": {},
   "outputs": [],
   "source": [
    "semester_dates = {\n",
    "    (2015, 2016): ('2015-09-21', '2015-12-12'),\n",
    "    (2016, 2017): ('2016-09-19', '2016-12-10'),\n",
    "    (2017, 2018): ('2017-09-18', '2017-12-09'),\n",
    "    (2018, 2019): ('2018-09-24', '2018-12-15'),\n",
    "}"
   ]
  },
  {
   "cell_type": "code",
   "execution_count": 30,
   "metadata": {},
   "outputs": [],
   "source": [
    "course = 'ca116'"
   ]
  },
  {
   "cell_type": "code",
   "execution_count": 31,
   "metadata": {},
   "outputs": [],
   "source": [
    "semester = '2015/2016'"
   ]
  },
  {
   "cell_type": "markdown",
   "metadata": {},
   "source": [
    "Year is considered as the second year on an academic year:"
   ]
  },
  {
   "cell_type": "code",
   "execution_count": 32,
   "metadata": {},
   "outputs": [
    {
     "data": {
      "text/plain": [
       "2016"
      ]
     },
     "execution_count": 32,
     "metadata": {},
     "output_type": "execute_result"
    }
   ],
   "source": [
    "year = int(semester.split('/')[1])\n",
    "year"
   ]
  },
  {
   "cell_type": "code",
   "execution_count": 33,
   "metadata": {},
   "outputs": [
    {
     "data": {
      "text/plain": [
       "('2015-09-21', '2015-12-12')"
      ]
     },
     "execution_count": 33,
     "metadata": {},
     "output_type": "execute_result"
    }
   ],
   "source": [
    "dates = semester_dates[(2015, 2016)]\n",
    "dates"
   ]
  },
  {
   "cell_type": "code",
   "execution_count": 34,
   "metadata": {},
   "outputs": [],
   "source": [
    "def to_datetime(dates):\n",
    "    start = datetime.datetime.strptime(dates[0], \"%Y-%m-%d\")\n",
    "    end = datetime.datetime.strptime(dates[1], \"%Y-%m-%d\")\n",
    "    return start, end"
   ]
  },
  {
   "cell_type": "code",
   "execution_count": 35,
   "metadata": {},
   "outputs": [
    {
     "data": {
      "text/plain": [
       "(datetime.datetime(2015, 9, 21, 0, 0), datetime.datetime(2015, 12, 12, 0, 0))"
      ]
     },
     "execution_count": 35,
     "metadata": {},
     "output_type": "execute_result"
    }
   ],
   "source": [
    "start, end = to_datetime(dates)\n",
    "start, end"
   ]
  },
  {
   "cell_type": "markdown",
   "metadata": {
    "collapsed": true
   },
   "source": [
    "Get **timetable** for lectures, labs and exams:"
   ]
  },
  {
   "cell_type": "code",
   "execution_count": 36,
   "metadata": {},
   "outputs": [],
   "source": [
    "from matplotlib.dates import MO, TU, WE, TH, FR, SA, SU\n",
    "import matplotlib.dates as mdates\n",
    "\n",
    "def get_lectures_labs_exams(course, year):\n",
    "    \"\"\"\n",
    "    Get lectures, labs and exams for a given course and year\n",
    "    :param course: Course\n",
    "    :param academic_year: Year\n",
    "    :return: Lectures, Labs, Lab exams, Weeks for the lab exams, Lab week days\n",
    "    \"\"\"\n",
    "    lectures_file = '../../data/programs/%s.%s.lectures' % (course.upper(), year)\n",
    "\n",
    "    lectures = {}\n",
    "    labs = {}\n",
    "    lab_exams = {}\n",
    "    labs_mdates = []\n",
    "\n",
    "    with open(lectures_file, 'r') as f:\n",
    "        for line in f:\n",
    "            line = line.strip()\n",
    "            if line == \"\" or line.startswith(\"#\"):\n",
    "                continue\n",
    "            l = line.split(\",\")\n",
    "            type = l[0].strip()\n",
    "            if type == \"Lecture\":\n",
    "                # Lecture, 1, 1, 10, 2\n",
    "                # Tuesday, 10 AM, 2-hours long\n",
    "                count = int(l[1].strip())\n",
    "                days = int(l[2].strip())\n",
    "                hour = int(l[3].strip())\n",
    "                duration = int(l[4].strip())\n",
    "                lectures[count] = [days, hour, duration]\n",
    "            elif type == \"Lab\":\n",
    "                # Lab, 1, Tuesday, 1, 14, 2\n",
    "                count = int(l[1].strip())\n",
    "                day_week = l[2].strip()\n",
    "                days = int(l[3].strip())\n",
    "                hour = int(l[4].strip())\n",
    "                duration = int(l[5].strip())\n",
    "                labs[count] = [days, hour, duration]\n",
    "                labs_mdates.append(day_week)\n",
    "            elif type == \"Exam\":\n",
    "                # Exam, 6, 5, 1, 14, 2\n",
    "                week_exam = int(l[1].strip())\n",
    "                weeks = int(l[2].strip())\n",
    "                days = int(l[3].strip())\n",
    "                hour = int(l[4].strip())\n",
    "                duration = int(l[5].strip())\n",
    "                lab_exams[week_exam] = [weeks, days, hour, duration]\n",
    "\n",
    "    labs_byweekday = []\n",
    "    for day_week in labs_mdates:\n",
    "        if day_week == \"Monday\":\n",
    "            labs_byweekday.append(MO)\n",
    "        elif day_week == \"Tuesday\":\n",
    "            labs_byweekday.append(TU)\n",
    "        elif day_week == \"Wednesday\":\n",
    "            labs_byweekday.append(WE)\n",
    "        elif day_week == \"Thursday\":\n",
    "            labs_byweekday.append(TH)\n",
    "        elif day_week == \"Friday\":\n",
    "            labs_byweekday.append(FR)\n",
    "    lab_week_days = mdates.WeekdayLocator(byweekday=labs_byweekday)\n",
    "\n",
    "    return lectures, labs, lab_exams, lab_week_days"
   ]
  },
  {
   "cell_type": "code",
   "execution_count": 37,
   "metadata": {},
   "outputs": [],
   "source": [
    "lectures, labs, lab_exams, lab_week_days = get_lectures_labs_exams('ca116', 2016)"
   ]
  },
  {
   "cell_type": "markdown",
   "metadata": {},
   "source": [
    "Lectures were on Tuesday at 10 AM for 2 hours, Wednesday at 10 AM for two hours and Thursday at 10 AM for 1 hour:"
   ]
  },
  {
   "cell_type": "code",
   "execution_count": 38,
   "metadata": {},
   "outputs": [
    {
     "data": {
      "text/plain": [
       "{1: [1, 10, 2], 2: [2, 10, 1], 3: [3, 10, 1]}"
      ]
     },
     "execution_count": 38,
     "metadata": {},
     "output_type": "execute_result"
    }
   ],
   "source": [
    "lectures"
   ]
  },
  {
   "cell_type": "markdown",
   "metadata": {},
   "source": [
    "Labs were on Tuesday and Thursday at 2 PM for 2 hours:"
   ]
  },
  {
   "cell_type": "code",
   "execution_count": 39,
   "metadata": {},
   "outputs": [
    {
     "data": {
      "text/plain": [
       "{1: [1, 14, 2], 2: [3, 14, 2]}"
      ]
     },
     "execution_count": 39,
     "metadata": {},
     "output_type": "execute_result"
    }
   ],
   "source": [
    "labs"
   ]
  },
  {
   "cell_type": "markdown",
   "metadata": {},
   "source": [
    "Lab exams were on week 6 and 12 on the Thursday lab slot:"
   ]
  },
  {
   "cell_type": "code",
   "execution_count": 40,
   "metadata": {},
   "outputs": [
    {
     "data": {
      "text/plain": [
       "{6: [5, 3, 14, 2], 12: [11, 3, 14, 2]}"
      ]
     },
     "execution_count": 40,
     "metadata": {},
     "output_type": "execute_result"
    }
   ],
   "source": [
    "lab_exams"
   ]
  },
  {
   "cell_type": "markdown",
   "metadata": {},
   "source": [
    "Get **periods** (time intervals):"
   ]
  },
  {
   "cell_type": "code",
   "execution_count": 41,
   "metadata": {},
   "outputs": [],
   "source": [
    "def get_periods(start, end, lectures, labs, lab_exams):\n",
    "    \"\"\"\n",
    "    Get Periods for a semester\n",
    "    :param start: Start date\n",
    "    :param end: End date\n",
    "    :param lectures: Lecture times\n",
    "    :param labs: Lab times\n",
    "    :param lab_exam_dts: Exam\n",
    "    :return: Dictionaries of weeks, lectures, labs and exams periods\n",
    "    \"\"\"\n",
    "    # Dictionary of WEEK Start and End Datetime\n",
    "    week_dts = {}\n",
    "    # Dictionary of LECTURES Start and End Datetime\n",
    "    lectures_dts = {}\n",
    "    # Dictionary of LABS Start and End Datetime\n",
    "    labs_dts = {}\n",
    "\n",
    "    week = 1\n",
    "    week_dt = start\n",
    "    while week_dt < end:\n",
    "\n",
    "        next_week_dt = week_dt + datetime.timedelta(days=7)\n",
    "\n",
    "        # print \"Week\", week, \"- Start\", week_dt, \"- End\", next_week_dt\n",
    "        week_dts[week] = [week_dt, next_week_dt]\n",
    "\n",
    "        lectures_dts[week] = []\n",
    "        for lecture in lectures:\n",
    "            days, hours, duration = lectures[lecture]\n",
    "            lecture_start = week_dt + datetime.timedelta(days=days, hours=hours)\n",
    "            lecture_end = lecture_start + datetime.timedelta(hours=duration)\n",
    "            lectures_dts[week].append([lecture_start, lecture_end])\n",
    "\n",
    "        labs_dts[week] = []\n",
    "        for lab in labs:\n",
    "            days, hours, duration = labs[lab]\n",
    "            lab_start = week_dt + datetime.timedelta(days=days, hours=hours)\n",
    "            lab_end = lab_start + datetime.timedelta(hours=duration)\n",
    "            labs_dts[week].append([lab_start, lab_end])\n",
    "\n",
    "        week += 1\n",
    "        week_dt = next_week_dt\n",
    "\n",
    "    lab_exams_dts = {}\n",
    "    for lab_exam in lab_exams:\n",
    "        weeks, days, hours, duration = lab_exams[lab_exam]\n",
    "        exam_start = start + datetime.timedelta(weeks=weeks, days=days, hours=hours)\n",
    "        exam_end = exam_start + datetime.timedelta(hours=duration)\n",
    "        lab_exams_dts.setdefault(lab_exam, [])\n",
    "        lab_exams_dts[lab_exam] = [exam_start, exam_end]\n",
    "\n",
    "    return week_dts, lectures_dts, labs_dts, lab_exams_dts"
   ]
  },
  {
   "cell_type": "code",
   "execution_count": 42,
   "metadata": {},
   "outputs": [],
   "source": [
    "week_dts, lectures_dts, labs_dts, lab_exam_dts = get_periods(start, end, lectures, labs, lab_exams)"
   ]
  },
  {
   "cell_type": "markdown",
   "metadata": {},
   "source": [
    "Dictionary of intervals for each week e.g. week 1 "
   ]
  },
  {
   "cell_type": "code",
   "execution_count": 43,
   "metadata": {},
   "outputs": [
    {
     "data": {
      "text/plain": [
       "[datetime.datetime(2015, 9, 21, 0, 0), datetime.datetime(2015, 9, 28, 0, 0)]"
      ]
     },
     "execution_count": 43,
     "metadata": {},
     "output_type": "execute_result"
    }
   ],
   "source": [
    "week_dts[1]"
   ]
  },
  {
   "cell_type": "markdown",
   "metadata": {},
   "source": [
    "Dictionary of intervals for each lecture e.g. lectures in week 2"
   ]
  },
  {
   "cell_type": "code",
   "execution_count": 44,
   "metadata": {},
   "outputs": [
    {
     "data": {
      "text/plain": [
       "[[datetime.datetime(2015, 9, 29, 10, 0),\n",
       "  datetime.datetime(2015, 9, 29, 12, 0)],\n",
       " [datetime.datetime(2015, 9, 30, 10, 0),\n",
       "  datetime.datetime(2015, 9, 30, 11, 0)],\n",
       " [datetime.datetime(2015, 10, 1, 10, 0),\n",
       "  datetime.datetime(2015, 10, 1, 11, 0)]]"
      ]
     },
     "execution_count": 44,
     "metadata": {},
     "output_type": "execute_result"
    }
   ],
   "source": [
    "lectures_dts[2]"
   ]
  },
  {
   "cell_type": "markdown",
   "metadata": {},
   "source": [
    "Dictionary of intervals for each lab e.g. labs in week 4"
   ]
  },
  {
   "cell_type": "code",
   "execution_count": 45,
   "metadata": {},
   "outputs": [
    {
     "data": {
      "text/plain": [
       "[[datetime.datetime(2015, 10, 13, 14, 0),\n",
       "  datetime.datetime(2015, 10, 13, 16, 0)],\n",
       " [datetime.datetime(2015, 10, 15, 14, 0),\n",
       "  datetime.datetime(2015, 10, 15, 16, 0)]]"
      ]
     },
     "execution_count": 45,
     "metadata": {},
     "output_type": "execute_result"
    }
   ],
   "source": [
    "labs_dts[4]"
   ]
  },
  {
   "cell_type": "markdown",
   "metadata": {},
   "source": [
    "Dictionary of lab exams:"
   ]
  },
  {
   "cell_type": "code",
   "execution_count": 46,
   "metadata": {},
   "outputs": [
    {
     "data": {
      "text/plain": [
       "{6: [datetime.datetime(2015, 10, 29, 14, 0),\n",
       "  datetime.datetime(2015, 10, 29, 16, 0)],\n",
       " 12: [datetime.datetime(2015, 12, 10, 14, 0),\n",
       "  datetime.datetime(2015, 12, 10, 16, 0)]}"
      ]
     },
     "execution_count": 46,
     "metadata": {},
     "output_type": "execute_result"
    }
   ],
   "source": [
    "lab_exam_dts"
   ]
  },
  {
   "cell_type": "markdown",
   "metadata": {},
   "source": [
    "Get lab hours:"
   ]
  },
  {
   "cell_type": "code",
   "execution_count": 47,
   "metadata": {},
   "outputs": [],
   "source": [
    "def get_lab_times(labs_dts):\n",
    "\n",
    "    lab_times = {}\n",
    "    for week in labs_dts:\n",
    "        lab_times.setdefault(week, [])\n",
    "        for lab_time in labs_dts[week]:\n",
    "            start_lab, end_lab = lab_time\n",
    "            lab_time = start_lab\n",
    "            while lab_time <= end_lab:\n",
    "                lab_times[week].append([lab_time.year, lab_time.month, lab_time.day, lab_time.hour])\n",
    "                lab_time += datetime.timedelta(hours=1) # Add one hour\n",
    "    return lab_times"
   ]
  },
  {
   "cell_type": "code",
   "execution_count": 48,
   "metadata": {},
   "outputs": [],
   "source": [
    "lab_times = get_lab_times(labs_dts)"
   ]
  },
  {
   "cell_type": "markdown",
   "metadata": {},
   "source": [
    "Lab times for week 5:"
   ]
  },
  {
   "cell_type": "code",
   "execution_count": 49,
   "metadata": {},
   "outputs": [
    {
     "data": {
      "text/plain": [
       "[[2015, 10, 20, 14],\n",
       " [2015, 10, 20, 15],\n",
       " [2015, 10, 20, 16],\n",
       " [2015, 10, 22, 14],\n",
       " [2015, 10, 22, 15],\n",
       " [2015, 10, 22, 16]]"
      ]
     },
     "execution_count": 49,
     "metadata": {},
     "output_type": "execute_result"
    }
   ],
   "source": [
    "lab_times[5]"
   ]
  },
  {
   "cell_type": "markdown",
   "metadata": {},
   "source": [
    "Get **labs** and **programs**:"
   ]
  },
  {
   "cell_type": "code",
   "execution_count": 50,
   "metadata": {},
   "outputs": [],
   "source": [
    "def get_lab_and_programs(course, year):\n",
    "    \"\"\"\n",
    "    Get labs and programs per lab for a given course and academic year\n",
    "    :param course: Course name\n",
    "    :param academic_year: Academic year\n",
    "    :return: Dictionary of programs per lab, Array of lab names, Array of lab programs\n",
    "    \"\"\"\n",
    "\n",
    "    programs_file = '../../data/programs/%s.%s.programs' % (course.upper(), year)\n",
    "\n",
    "    with open(programs_file, 'r') as f:\n",
    "        programs_file_contents = f.read()\n",
    "\n",
    "    programs_per_lab = {}\n",
    "    lab_programs = []\n",
    "    lab_names = []\n",
    "\n",
    "    for line in programs_file_contents.splitlines():\n",
    "\n",
    "        if line.strip() == \"\" or line.startswith(\"#\"):\n",
    "            continue\n",
    "\n",
    "        line = line.split()\n",
    "        lab, p = line[0], line[1]\n",
    "\n",
    "        lab = lab.strip()\n",
    "        if \".html\" in lab:\n",
    "            lab = lab.split(\".html\")[0]\n",
    "\n",
    "        p = p.strip()\n",
    "\n",
    "        programs_per_lab.setdefault(lab, [])\n",
    "        programs_per_lab[lab].append(p)\n",
    "\n",
    "        if p not in lab_programs:\n",
    "            lab_programs.append(p)\n",
    "\n",
    "        if lab not in lab_names:\n",
    "            lab_names.append(lab)\n",
    "\n",
    "    return programs_per_lab, lab_names, lab_programs"
   ]
  },
  {
   "cell_type": "code",
   "execution_count": 51,
   "metadata": {},
   "outputs": [],
   "source": [
    "programs_per_lab, all_lab_names, all_lab_programs = get_lab_and_programs('ca116', 2016)"
   ]
  },
  {
   "cell_type": "code",
   "execution_count": 52,
   "metadata": {},
   "outputs": [
    {
     "name": "stdout",
     "output_type": "stream",
     "text": [
      "Number of labs: 20\n"
     ]
    }
   ],
   "source": [
    "print(\"Number of labs:\", len(programs_per_lab))"
   ]
  },
  {
   "cell_type": "code",
   "execution_count": 53,
   "metadata": {},
   "outputs": [
    {
     "name": "stdout",
     "output_type": "stream",
     "text": [
      "Labs: /labsheet-04, /labsheet-05, /labsheet-06, /labsheet-07, /labsheet-08, /labsheet-09, /labsheet-10, /labsheet-11-boot-camp, /labsheet-12-more-boot-camp, /labsheet-13, /labsheet-14, /labsheet-15, /labsheet-16, /labsheet-17, /labsheet-18, /labsheet-19, /labsheet-20, /labsheet-pt-01, /labsheet-pt-02, /labsheet-pt-03\n"
     ]
    }
   ],
   "source": [
    "print(\"Labs:\", \", \".join(str(lab) for lab in all_lab_names))"
   ]
  },
  {
   "cell_type": "code",
   "execution_count": 54,
   "metadata": {},
   "outputs": [
    {
     "name": "stdout",
     "output_type": "stream",
     "text": [
      "Number of distinct programs: 112\n"
     ]
    }
   ],
   "source": [
    "print(\"Number of distinct programs:\", len(all_lab_programs))"
   ]
  },
  {
   "cell_type": "markdown",
   "metadata": {},
   "source": [
    "Dictionary of programs per lab:"
   ]
  },
  {
   "cell_type": "code",
   "execution_count": 55,
   "metadata": {},
   "outputs": [
    {
     "data": {
      "text/plain": [
       "['counting-up.py',\n",
       " 'counting-up-2.py',\n",
       " 'counting-down.py',\n",
       " 'counting-even.py',\n",
       " 'counting-odd.py',\n",
       " 'counting-seven.py',\n",
       " 'counting-multiples.py',\n",
       " 'fizz-buzz.py',\n",
       " 'fib-n.py']"
      ]
     },
     "execution_count": 55,
     "metadata": {},
     "output_type": "execute_result"
    }
   ],
   "source": [
    "programs_per_lab['/labsheet-04']"
   ]
  },
  {
   "cell_type": "markdown",
   "metadata": {},
   "source": [
    "Get **resources** (material):"
   ]
  },
  {
   "cell_type": "code",
   "execution_count": 56,
   "metadata": {},
   "outputs": [],
   "source": [
    "def get_resources(course, year, start_semester):\n",
    "    \"\"\"\n",
    "    Get information from resources students can access\n",
    "    :param module_name: Course name\n",
    "    :param academic_year: Academic year\n",
    "    :param start_semester: Start of the semester\n",
    "    :return: Resources per week, When each resource was made available, Main resources, All resources, Week resources\n",
    "    \"\"\"\n",
    "\n",
    "    resources_file = '../../data/programs/%s.%s.resources' % (course.upper(), year)\n",
    "\n",
    "    resources_per_week = {}\n",
    "    resource_post_dt = {}\n",
    "    main_resources = []\n",
    "    all_resources = []\n",
    "    week_resources = []\n",
    "\n",
    "    with open(resources_file, 'r') as f:\n",
    "        for line in f:\n",
    "            line = line.strip()\n",
    "            if line == \"\" or line.startswith(\"#\"):\n",
    "                continue\n",
    "            l = line.split(\",\")\n",
    "            type = l[0].strip()\n",
    "            if type == \"Week\":\n",
    "                # Weekly resources\n",
    "                # Week, 1, /01-intro, 1\n",
    "                week = int(l[1].strip())\n",
    "                resource = l[2].strip()\n",
    "                days = int(l[3].strip())\n",
    "                resources_per_week.setdefault(week, [])\n",
    "                resources_per_week[week].append(resource)\n",
    "                resource_post_dt[resource] = start_semester + datetime.timedelta(weeks=week - 1, days=days)\n",
    "                all_resources.extend(resources_per_week[week])\n",
    "                week_resources.extend(resources_per_week[week])\n",
    "            elif type == \"Main\":\n",
    "                # Resources available throughtout the semester\n",
    "                # Main, /index, 0, 0\n",
    "                resource = l[1].strip()\n",
    "                weeks = int(l[2].strip())\n",
    "                days = int(l[3].strip())\n",
    "                main_resources.append(resource)\n",
    "                resource_post_dt[resource] = start_semester + datetime.timedelta(weeks=weeks, days=days)\n",
    "                all_resources.append(resource)\n",
    "\n",
    "    return resources_per_week, resource_post_dt, main_resources, all_resources, week_resources"
   ]
  },
  {
   "cell_type": "code",
   "execution_count": 57,
   "metadata": {},
   "outputs": [],
   "source": [
    "resources_per_week, resource_post_dt, main_resources, all_resources, week_resources = \\\n",
    "    get_resources('ca116', 2016, start)"
   ]
  },
  {
   "cell_type": "markdown",
   "metadata": {},
   "source": [
    "Material for week 4:"
   ]
  },
  {
   "cell_type": "code",
   "execution_count": 58,
   "metadata": {},
   "outputs": [
    {
     "data": {
      "text/plain": [
       "['/extra-tasks-04',\n",
       " '/08-truthiness',\n",
       " '/09-strings',\n",
       " '/labsheet-06',\n",
       " '/10-argv',\n",
       " '/11-string-methods',\n",
       " '/labsheet-07']"
      ]
     },
     "execution_count": 58,
     "metadata": {},
     "output_type": "execute_result"
    }
   ],
   "source": [
    "resources_per_week[4]"
   ]
  },
  {
   "cell_type": "markdown",
   "metadata": {},
   "source": [
    "Dictionary of when was each resource posted:"
   ]
  },
  {
   "cell_type": "code",
   "execution_count": 59,
   "metadata": {},
   "outputs": [
    {
     "data": {
      "text/plain": [
       "datetime.datetime(2015, 9, 22, 0, 0)"
      ]
     },
     "execution_count": 59,
     "metadata": {},
     "output_type": "execute_result"
    }
   ],
   "source": [
    "resource_post_dt['/01-intro']"
   ]
  },
  {
   "cell_type": "markdown",
   "metadata": {},
   "source": [
    "## Feature Engineering\n",
    "\n",
    "Handcrafting features per student per week based on their programming work, web events and characteristics:"
   ]
  },
  {
   "cell_type": "code",
   "execution_count": 60,
   "metadata": {},
   "outputs": [],
   "source": [
    "DCU_IP = \"136.206.\"\n",
    "WEEKEND = [5, 6]"
   ]
  },
  {
   "cell_type": "code",
   "execution_count": 61,
   "metadata": {},
   "outputs": [],
   "source": [
    "distances = {}\n",
    "\n",
    "distances_properties = \"../../data/demographics/distances\"\n",
    "with open(distances_properties) as f:\n",
    "\n",
    "    for line in f:\n",
    "\n",
    "        line = line.strip()\n",
    "        if line == \"\" or line.startswith(\"#\"):\n",
    "            continue\n",
    "        l = line.split(\",\")\n",
    "        code = l[0].strip()\n",
    "        distance = float(l[1].strip())\n",
    "\n",
    "        distances[code] = distance"
   ]
  },
  {
   "cell_type": "code",
   "execution_count": 62,
   "metadata": {},
   "outputs": [],
   "source": [
    "MAX_DIST = max(distances.values())"
   ]
  },
  {
   "cell_type": "code",
   "execution_count": 63,
   "metadata": {},
   "outputs": [],
   "source": [
    "cao_dict = {\n",
    "    (878, 878): 'Mature',\n",
    "    (999, 999): 'Deferrals',\n",
    "    (777, 777): 'FETAC',\n",
    "    (888, 888): 'McAlleese',\n",
    "    (978, 979): 'HEAR',\n",
    "    (968, 969): 'DARE',\n",
    "    (976, 976): 'Access',\n",
    "    (778, 778): 'Colaiste Dhulaigh Science',\n",
    "    (669, 669): 'ELITE Sports',\n",
    "}"
   ]
  },
  {
   "cell_type": "code",
   "execution_count": 64,
   "metadata": {},
   "outputs": [],
   "source": [
    "def get_route(points):\n",
    "    for k, v in cao_dict.items():\n",
    "        low, high = k\n",
    "        if points >= low and points <= high:\n",
    "            return v\n",
    "    return 'CAO'"
   ]
  },
  {
   "cell_type": "code",
   "execution_count": 65,
   "metadata": {},
   "outputs": [
    {
     "data": {
      "text/plain": [
       "('CAO', 'Access', 'HEAR')"
      ]
     },
     "execution_count": 65,
     "metadata": {},
     "output_type": "execute_result"
    }
   ],
   "source": [
    "get_route(300), get_route(976), get_route(978)"
   ]
  },
  {
   "cell_type": "code",
   "execution_count": 66,
   "metadata": {},
   "outputs": [],
   "source": [
    "def handcraft_features(course, academic_year):\n",
    "    \n",
    "    print('---- Handcrafting features ----')\n",
    "    print('Course: %s' % (course))\n",
    "    print('Academic year: %s/%s' % (academic_year[0], academic_year[1]))\n",
    "    \n",
    "    features = []\n",
    "    now = datetime.datetime.now()\n",
    "    \n",
    "    # Semester dates: start & end\n",
    "    dates = semester_dates[academic_year]\n",
    "    start, end = to_datetime(dates)\n",
    "    print('Semester Start: %s, End: %s \\n' % (start, end))\n",
    "    \n",
    "    # PROGRAMS\n",
    "    _programs = get_programs(course, start, end)\n",
    "    \n",
    "    # Web logs\n",
    "    _web = get_web_data(course, start, end)\n",
    "    \n",
    "    # GRADES\n",
    "    _grades = get_grades(course, academic_year)\n",
    "    \n",
    "    # Students & Exam Weeks\n",
    "    student_names = _grades.user.unique()\n",
    "    print('# Students: %d' % (len(student_names)))\n",
    "    exam_weeks = [4, 8, 12] # sorted(_grades.exam_week.unique())\n",
    "    print('Exam weeks: ' + ', '.join([str(e) for e in exam_weeks]))\n",
    "    week_to_exam = get_week_to_exam(exam_weeks)\n",
    "    \n",
    "    # DEMOGRAPHICS AND ACADEMICS\n",
    "    _demographics = get_demographic_data(academic_year)\n",
    "    _student_demographics = {}\n",
    "    for student_name in student_names:\n",
    "        demos = _demographics[_demographics['student'] == student_name]\n",
    "        cao_points = 0\n",
    "        route = ''\n",
    "        math_lc = 0\n",
    "        domicile = MAX_DIST\n",
    "        if len(demos) > 0:\n",
    "            row = demos.iloc[0, :]\n",
    "            cao_points = float(row['cao_points'])\n",
    "            route = str(get_route(cao_points))\n",
    "            math_lc = float(row['math_leaving_cert'])\n",
    "            if row['domicile'] is not np.nan:\n",
    "                domicile = float(distances[row['domicile']])\n",
    "            else:\n",
    "                domicile = MAX_DIST\n",
    "        _student_demographics[student_name] = dict(cao_points=cao_points, route=route, \n",
    "                                                   math_lc=math_lc, domicile=domicile)\n",
    "    \n",
    "    # Lectures, Labs, Exams\n",
    "    lectures, labs, lab_exams, lab_week_days = get_lectures_labs_exams(course, academic_year[1])\n",
    "\n",
    "    # Timestamp Periods\n",
    "    week_periods, lecture_periods, lab_periods, exam_periods = get_periods(start, end, lectures, labs, lab_exams)\n",
    "    \n",
    "    # Labs and Programs\n",
    "    programs_per_lab, lab_names, all_programs = get_lab_and_programs(course, academic_year[1])\n",
    "    programs_cumulative = []\n",
    "    \n",
    "    # Resources\n",
    "    resources_per_week, resource_post_dt, main_resources, all_resources, week_resources = \\\n",
    "        get_resources(course, academic_year[1], start)\n",
    "        \n",
    "    past_features = {}\n",
    "    \n",
    "    for i in range(12):\n",
    "        \n",
    "        week = i + 1\n",
    "        print('** Week %s **' % (week))\n",
    "        \n",
    "        # NEXT EXAM: Target\n",
    "        next_exam = week_to_exam[week]\n",
    "        print('Target exam: %s' % (next_exam))\n",
    "        \n",
    "        # Start and End week\n",
    "        start_week, end_week = week_periods[week]\n",
    "        if end_week > now: \n",
    "            print('This class and week is now going on, exiting...')\n",
    "            return features\n",
    "        \n",
    "        print('Start: %s, End: %s' % (start_week, end_week))\n",
    "        if week in exam_weeks: # Exam happens this week\n",
    "            start_exam, end_exam = exam_periods[week]\n",
    "            end_week = start_exam\n",
    "            print('EXAM')\n",
    "\n",
    "        # Resources week\n",
    "        resources_week = resources_per_week[week]\n",
    "        print('# Resources: %s' % (len(resources_week)))\n",
    "        # Labs week\n",
    "        labs_week = [r for r in resources_week if r in programs_per_lab]\n",
    "        # Programs week\n",
    "        programs_week = [program for lab, programs in programs_per_lab.items() if lab in labs_week \n",
    "                         for program in programs]\n",
    "        print('# Programs week: %s' % (len(programs_week)))\n",
    "        programs_cumulative.extend(programs_week)\n",
    "        print('# Programs cumulative: %s' % (len(programs_cumulative)))\n",
    "    \n",
    "        for student_name in student_names:\n",
    "            \n",
    "            # DEMOGRAPHICS\n",
    "            cao_points = _student_demographics[student_name]['cao_points']\n",
    "            route = _student_demographics[student_name]['route']\n",
    "            math_lc = _student_demographics[student_name]['math_lc']\n",
    "            domicile = _student_demographics[student_name]['domicile']\n",
    "\n",
    "            # PROGRAMS\n",
    "            programs = _programs[(_programs['user'] == student_name) &\n",
    "                                 (_programs['date'] >= start_week) & \n",
    "                                 (_programs['date'] <= end_week) &\n",
    "                                 (_programs['task'].isin(programs_week))]\n",
    "            \n",
    "            program_correctness = []\n",
    "            for program_name in programs_week:\n",
    "                if len(programs[(programs['task'] == program_name) & \n",
    "                                (programs['correct'] == True)]) > 0:\n",
    "                    program_correctness.append(1)\n",
    "                else:\n",
    "                    program_correctness.append(0)\n",
    "            program_correct = 0.\n",
    "            if len(program_correctness) > 0:\n",
    "                program_correct = float(sum(program_correctness)) / len(program_correctness)\n",
    "            \n",
    "            # PROGRAMS CUMULATIVE\n",
    "            cum_programs = _programs[(_programs['user'] == student_name) &\n",
    "                                     (_programs['date'] >= start) & \n",
    "                                     (_programs['date'] <= end_week) &\n",
    "                                     (_programs['task'].isin(programs_cumulative))]\n",
    "            \n",
    "            cum_program_correctness = []\n",
    "            for program_name in programs_cumulative:\n",
    "                if len(cum_programs[(cum_programs['task'] == program_name) & \n",
    "                                    (cum_programs['correct'] == True)]) > 0:\n",
    "                    cum_program_correctness.append(1)\n",
    "                else:\n",
    "                    cum_program_correctness.append(0)\n",
    "            cum_program_correct = 0.\n",
    "            if len(cum_program_correctness) > 0:\n",
    "                cum_program_correct = float(sum(cum_program_correctness)) / len(cum_program_correctness)\n",
    "                \n",
    "            # WEB\n",
    "            web = _web[(_web['user'] == student_name) &\n",
    "                       (_web['date'] >= start_week) & \n",
    "                       (_web['date'] <= end_week) &\n",
    "                       (_web['resource'].str.split('.').str[0].isin(resources_week))]\n",
    "            \n",
    "            # On-campus / Off-campus\n",
    "            campus_rate = 0.\n",
    "            # Week / Weekend\n",
    "            week_rate = 0.\n",
    "            # Resource Coverage\n",
    "            coverage = 0.\n",
    "            if len(web) > 0:\n",
    "                campus_rate = float(len([i for i in web.index if DCU_IP in df_web.loc[i, 'ip']])\n",
    "                                   ) / len(web)\n",
    "                week_rate = float(len([i for i in web.index if df_web.loc[i, 'date'].weekday() in WEEKEND])\n",
    "                                 ) / len(web)\n",
    "                coverage = float(len(set([df_web.loc[i, 'resource'].split('.')[0] \n",
    "                                          for i in web.index]))) / len(resources_week)\n",
    "\n",
    "            # GRADES\n",
    "            grades = _grades[(_grades['user'] == student_name) & \n",
    "                             (_grades['exam_week'] == next_exam)]\n",
    "            grade = 0\n",
    "            if len(grades) > 0:\n",
    "                grade = int(grades.iloc[0, :]['grade'])\n",
    "                \n",
    "            # Add features to dictionary for each student and academic year\n",
    "            past_features.setdefault( (student_name, academic_year[1]), [])\n",
    "            past_features[ (student_name, academic_year[1]) ].extend([\n",
    "                ('program_correct_W' + str(week), program_correct),\n",
    "                ('cum_programs_W' + str(week), cum_program_correct),\n",
    "                ('campus_rate_W' + str(week), campus_rate),\n",
    "                ('week_rate_W' + str(week), week_rate),\n",
    "                ('coverage_W' + str(week), coverage),\n",
    "            ])\n",
    "            # Previous exam grades\n",
    "            last_week = week - 1\n",
    "            if last_week in exam_weeks: # Exam happened last week\n",
    "                grades = _grades[(_grades['user'] == student_name) & \n",
    "                                 (_grades['exam_week'] == last_week)]\n",
    "                last_grade = 0\n",
    "                if len(grades) > 0:\n",
    "                    last_grade = int(grades.iloc[0, :]['grade'])\n",
    "                past_features[ (student_name, academic_year[1]) ].append(\n",
    "                    ('exam_W' + str(last_week), last_grade),\n",
    "                )\n",
    "\n",
    "            # FEATURE\n",
    "            feature = {\n",
    "                'course': course,\n",
    "                'academic_year_0': academic_year[0],\n",
    "                'academic_year_1': academic_year[1],\n",
    "                'week': week,\n",
    "                'exam': next_exam,\n",
    "                'student': student_name,\n",
    "                'cao_points': cao_points,\n",
    "                'route': route,\n",
    "                'math_lc': math_lc,\n",
    "                'domicile': domicile,\n",
    "                'grade': grade,\n",
    "            }\n",
    "            for name, value in past_features[ (student_name, academic_year[1]) ]:\n",
    "                feature[name] = value\n",
    "            \n",
    "            features.append(feature)\n",
    "        \n",
    "    return features"
   ]
  },
  {
   "cell_type": "markdown",
   "metadata": {},
   "source": [
    "### Course: CA116 - Academic Year: 2016/2017"
   ]
  },
  {
   "cell_type": "code",
   "execution_count": 67,
   "metadata": {
    "scrolled": false
   },
   "outputs": [
    {
     "name": "stdout",
     "output_type": "stream",
     "text": [
      "---- Handcrafting features ----\n",
      "Course: ca116\n",
      "Academic year: 2016/2017\n",
      "Semester Start: 2016-09-19 00:00:00, End: 2016-12-10 00:00:00 \n",
      "\n",
      "# Students: 126\n",
      "Exam weeks: 4, 8, 12\n",
      "** Week 1 **\n",
      "Target exam: 4\n",
      "Start: 2016-09-19 00:00:00, End: 2016-09-26 00:00:00\n",
      "# Resources: 7\n",
      "# Programs week: 0\n",
      "# Programs cumulative: 0\n",
      "** Week 2 **\n",
      "Target exam: 4\n",
      "Start: 2016-09-26 00:00:00, End: 2016-10-03 00:00:00\n",
      "# Resources: 5\n",
      "# Programs week: 0\n",
      "# Programs cumulative: 0\n",
      "** Week 3 **\n",
      "Target exam: 4\n",
      "Start: 2016-10-03 00:00:00, End: 2016-10-10 00:00:00\n",
      "# Resources: 4\n",
      "# Programs week: 22\n",
      "# Programs cumulative: 22\n",
      "** Week 4 **\n",
      "Target exam: 4\n",
      "Start: 2016-10-10 00:00:00, End: 2016-10-17 00:00:00\n",
      "EXAM\n",
      "# Resources: 4\n",
      "# Programs week: 11\n",
      "# Programs cumulative: 33\n",
      "** Week 5 **\n",
      "Target exam: 8\n",
      "Start: 2016-10-17 00:00:00, End: 2016-10-24 00:00:00\n",
      "# Resources: 5\n",
      "# Programs week: 17\n",
      "# Programs cumulative: 50\n",
      "** Week 6 **\n",
      "Target exam: 8\n",
      "Start: 2016-10-24 00:00:00, End: 2016-10-31 00:00:00\n",
      "# Resources: 3\n",
      "# Programs week: 11\n",
      "# Programs cumulative: 61\n",
      "** Week 7 **\n",
      "Target exam: 8\n",
      "Start: 2016-10-31 00:00:00, End: 2016-11-07 00:00:00\n",
      "# Resources: 4\n",
      "# Programs week: 12\n",
      "# Programs cumulative: 73\n",
      "** Week 8 **\n",
      "Target exam: 8\n",
      "Start: 2016-11-07 00:00:00, End: 2016-11-14 00:00:00\n",
      "EXAM\n",
      "# Resources: 3\n",
      "# Programs week: 5\n",
      "# Programs cumulative: 78\n",
      "** Week 9 **\n",
      "Target exam: 12\n",
      "Start: 2016-11-14 00:00:00, End: 2016-11-21 00:00:00\n",
      "# Resources: 3\n",
      "# Programs week: 15\n",
      "# Programs cumulative: 93\n",
      "** Week 10 **\n",
      "Target exam: 12\n",
      "Start: 2016-11-21 00:00:00, End: 2016-11-28 00:00:00\n",
      "# Resources: 6\n",
      "# Programs week: 15\n",
      "# Programs cumulative: 108\n",
      "** Week 11 **\n",
      "Target exam: 12\n",
      "Start: 2016-11-28 00:00:00, End: 2016-12-05 00:00:00\n",
      "# Resources: 4\n",
      "# Programs week: 12\n",
      "# Programs cumulative: 120\n",
      "** Week 12 **\n",
      "Target exam: 12\n",
      "Start: 2016-12-05 00:00:00, End: 2016-12-12 00:00:00\n",
      "EXAM\n",
      "# Resources: 2\n",
      "# Programs week: 4\n",
      "# Programs cumulative: 124\n"
     ]
    }
   ],
   "source": [
    "_course = 'ca116'\n",
    "_academic_year = (2016, 2017)\n",
    "\n",
    "features = handcraft_features(_course, _academic_year)"
   ]
  },
  {
   "cell_type": "code",
   "execution_count": 68,
   "metadata": {},
   "outputs": [
    {
     "data": {
      "text/plain": [
       "1512"
      ]
     },
     "execution_count": 68,
     "metadata": {},
     "output_type": "execute_result"
    }
   ],
   "source": [
    "len(features)"
   ]
  },
  {
   "cell_type": "code",
   "execution_count": 69,
   "metadata": {},
   "outputs": [
    {
     "data": {
      "text/plain": [
       "'1,512'"
      ]
     },
     "execution_count": 69,
     "metadata": {},
     "output_type": "execute_result"
    }
   ],
   "source": [
    "'{:,}'.format(len(features))"
   ]
  },
  {
   "cell_type": "code",
   "execution_count": 70,
   "metadata": {},
   "outputs": [],
   "source": [
    "filename = '../../data/features/features_%s_%s.json' % (_course.upper(), _academic_year[1])\n",
    "\n",
    "with open(filename, 'w') as outfile:\n",
    "    json.dump(features, outfile)"
   ]
  },
  {
   "cell_type": "markdown",
   "metadata": {
    "collapsed": true
   },
   "source": [
    "### Course: CA116 - Academic Year: 2017/2018"
   ]
  },
  {
   "cell_type": "code",
   "execution_count": 71,
   "metadata": {},
   "outputs": [
    {
     "name": "stdout",
     "output_type": "stream",
     "text": [
      "---- Handcrafting features ----\n",
      "Course: ca116\n",
      "Academic year: 2017/2018\n",
      "Semester Start: 2017-09-18 00:00:00, End: 2017-12-09 00:00:00 \n",
      "\n",
      "# Students: 156\n",
      "Exam weeks: 4, 8, 12\n",
      "** Week 1 **\n",
      "Target exam: 4\n",
      "Start: 2017-09-18 00:00:00, End: 2017-09-25 00:00:00\n",
      "# Resources: 6\n",
      "# Programs week: 18\n",
      "# Programs cumulative: 18\n",
      "** Week 2 **\n",
      "Target exam: 4\n",
      "Start: 2017-09-25 00:00:00, End: 2017-10-02 00:00:00\n",
      "# Resources: 4\n",
      "# Programs week: 21\n",
      "# Programs cumulative: 39\n",
      "** Week 3 **\n",
      "Target exam: 4\n",
      "Start: 2017-10-02 00:00:00, End: 2017-10-09 00:00:00\n",
      "# Resources: 4\n",
      "# Programs week: 23\n",
      "# Programs cumulative: 62\n",
      "** Week 4 **\n",
      "Target exam: 4\n",
      "Start: 2017-10-09 00:00:00, End: 2017-10-16 00:00:00\n",
      "EXAM\n",
      "# Resources: 5\n",
      "# Programs week: 14\n",
      "# Programs cumulative: 76\n",
      "** Week 5 **\n",
      "Target exam: 8\n",
      "Start: 2017-10-16 00:00:00, End: 2017-10-23 00:00:00\n",
      "# Resources: 3\n",
      "# Programs week: 21\n",
      "# Programs cumulative: 97\n",
      "** Week 6 **\n",
      "Target exam: 8\n",
      "Start: 2017-10-23 00:00:00, End: 2017-10-30 00:00:00\n",
      "# Resources: 3\n",
      "# Programs week: 19\n",
      "# Programs cumulative: 116\n",
      "** Week 7 **\n",
      "Target exam: 8\n",
      "Start: 2017-10-30 00:00:00, End: 2017-11-06 00:00:00\n",
      "# Resources: 4\n",
      "# Programs week: 26\n",
      "# Programs cumulative: 142\n",
      "** Week 8 **\n",
      "Target exam: 8\n",
      "Start: 2017-11-06 00:00:00, End: 2017-11-13 00:00:00\n",
      "EXAM\n",
      "# Resources: 2\n",
      "# Programs week: 6\n",
      "# Programs cumulative: 148\n",
      "** Week 9 **\n",
      "Target exam: 12\n",
      "Start: 2017-11-13 00:00:00, End: 2017-11-20 00:00:00\n",
      "# Resources: 3\n",
      "# Programs week: 17\n",
      "# Programs cumulative: 165\n",
      "** Week 10 **\n",
      "Target exam: 12\n",
      "Start: 2017-11-20 00:00:00, End: 2017-11-27 00:00:00\n",
      "# Resources: 3\n",
      "# Programs week: 16\n",
      "# Programs cumulative: 181\n",
      "** Week 11 **\n",
      "Target exam: 12\n",
      "Start: 2017-11-27 00:00:00, End: 2017-12-04 00:00:00\n",
      "# Resources: 3\n",
      "# Programs week: 0\n",
      "# Programs cumulative: 181\n",
      "** Week 12 **\n",
      "Target exam: 12\n",
      "Start: 2017-12-04 00:00:00, End: 2017-12-11 00:00:00\n",
      "EXAM\n",
      "# Resources: 3\n",
      "# Programs week: 0\n",
      "# Programs cumulative: 181\n"
     ]
    }
   ],
   "source": [
    "_course = 'ca116'\n",
    "_academic_year = (2017, 2018)\n",
    "\n",
    "features = handcraft_features(_course, _academic_year)"
   ]
  },
  {
   "cell_type": "code",
   "execution_count": 72,
   "metadata": {},
   "outputs": [
    {
     "data": {
      "text/plain": [
       "'1,872'"
      ]
     },
     "execution_count": 72,
     "metadata": {},
     "output_type": "execute_result"
    }
   ],
   "source": [
    "'{:,}'.format(len(features))"
   ]
  },
  {
   "cell_type": "code",
   "execution_count": 73,
   "metadata": {},
   "outputs": [],
   "source": [
    "filename = '../../data/features/features_%s_%s.json' % (_course.upper(), _academic_year[1])\n",
    "\n",
    "with open(filename, 'w') as outfile:\n",
    "    json.dump(features, outfile)"
   ]
  },
  {
   "cell_type": "markdown",
   "metadata": {
    "collapsed": true
   },
   "source": [
    "### Course: CA116 - Academic Year: 2018/2019"
   ]
  },
  {
   "cell_type": "code",
   "execution_count": 74,
   "metadata": {
    "scrolled": false
   },
   "outputs": [
    {
     "name": "stdout",
     "output_type": "stream",
     "text": [
      "---- Handcrafting features ----\n",
      "Course: ca116\n",
      "Academic year: 2018/2019\n",
      "Semester Start: 2018-09-24 00:00:00, End: 2018-12-15 00:00:00 \n",
      "\n",
      "# Students: 130\n",
      "Exam weeks: 4, 8, 12\n",
      "** Week 1 **\n",
      "Target exam: 4\n",
      "Start: 2018-09-24 00:00:00, End: 2018-10-01 00:00:00\n",
      "# Resources: 5\n",
      "# Programs week: 18\n",
      "# Programs cumulative: 18\n",
      "** Week 2 **\n",
      "Target exam: 4\n",
      "Start: 2018-10-01 00:00:00, End: 2018-10-08 00:00:00\n",
      "# Resources: 4\n",
      "# Programs week: 27\n",
      "# Programs cumulative: 45\n",
      "** Week 3 **\n",
      "Target exam: 4\n",
      "Start: 2018-10-08 00:00:00, End: 2018-10-15 00:00:00\n",
      "# Resources: 6\n",
      "# Programs week: 26\n",
      "# Programs cumulative: 71\n",
      "** Week 4 **\n",
      "Target exam: 4\n",
      "Start: 2018-10-15 00:00:00, End: 2018-10-22 00:00:00\n",
      "EXAM\n",
      "# Resources: 4\n",
      "# Programs week: 12\n",
      "# Programs cumulative: 83\n",
      "** Week 5 **\n",
      "Target exam: 8\n",
      "Start: 2018-10-22 00:00:00, End: 2018-10-29 00:00:00\n",
      "# Resources: 4\n",
      "# Programs week: 24\n",
      "# Programs cumulative: 107\n",
      "** Week 6 **\n",
      "Target exam: 8\n",
      "Start: 2018-10-29 00:00:00, End: 2018-11-05 00:00:00\n",
      "# Resources: 5\n",
      "# Programs week: 24\n",
      "# Programs cumulative: 131\n",
      "** Week 7 **\n",
      "Target exam: 8\n",
      "Start: 2018-11-05 00:00:00, End: 2018-11-12 00:00:00\n",
      "# Resources: 4\n",
      "# Programs week: 15\n",
      "# Programs cumulative: 146\n",
      "** Week 8 **\n",
      "Target exam: 8\n",
      "Start: 2018-11-12 00:00:00, End: 2018-11-19 00:00:00\n",
      "EXAM\n",
      "# Resources: 2\n",
      "# Programs week: 6\n",
      "# Programs cumulative: 152\n",
      "** Week 9 **\n",
      "Target exam: 12\n",
      "Start: 2018-11-19 00:00:00, End: 2018-11-26 00:00:00\n",
      "# Resources: 3\n",
      "# Programs week: 19\n",
      "# Programs cumulative: 171\n",
      "** Week 10 **\n",
      "Target exam: 12\n",
      "Start: 2018-11-26 00:00:00, End: 2018-12-03 00:00:00\n",
      "# Resources: 3\n",
      "# Programs week: 15\n",
      "# Programs cumulative: 186\n",
      "** Week 11 **\n",
      "Target exam: 12\n",
      "Start: 2018-12-03 00:00:00, End: 2018-12-10 00:00:00\n",
      "# Resources: 3\n",
      "# Programs week: 11\n",
      "# Programs cumulative: 197\n",
      "** Week 12 **\n",
      "Target exam: 12\n",
      "Start: 2018-12-10 00:00:00, End: 2018-12-17 00:00:00\n",
      "EXAM\n",
      "# Resources: 2\n",
      "# Programs week: 4\n",
      "# Programs cumulative: 201\n"
     ]
    }
   ],
   "source": [
    "_course = 'ca116'\n",
    "_academic_year = (2018, 2019)\n",
    "\n",
    "features = handcraft_features(_course, _academic_year)"
   ]
  },
  {
   "cell_type": "code",
   "execution_count": 75,
   "metadata": {},
   "outputs": [
    {
     "data": {
      "text/plain": [
       "'1,560'"
      ]
     },
     "execution_count": 75,
     "metadata": {},
     "output_type": "execute_result"
    }
   ],
   "source": [
    "'{:,}'.format(len(features))"
   ]
  },
  {
   "cell_type": "code",
   "execution_count": 76,
   "metadata": {},
   "outputs": [],
   "source": [
    "filename = '../../data/features/features_%s_%s.json' % (_course.upper(), _academic_year[1])\n",
    "\n",
    "with open(filename, 'w') as outfile:\n",
    "    json.dump(features, outfile)"
   ]
  }
 ],
 "metadata": {
  "kernelspec": {
   "display_name": "Python 3",
   "language": "python",
   "name": "python3"
  },
  "language_info": {
   "codemirror_mode": {
    "name": "ipython",
    "version": 3
   },
   "file_extension": ".py",
   "mimetype": "text/x-python",
   "name": "python",
   "nbconvert_exporter": "python",
   "pygments_lexer": "ipython3",
   "version": "3.6.5"
  }
 },
 "nbformat": 4,
 "nbformat_minor": 2
}

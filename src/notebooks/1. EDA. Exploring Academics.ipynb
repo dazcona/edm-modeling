{
 "cells": [
  {
   "cell_type": "markdown",
   "metadata": {},
   "source": [
    "# Academics\n",
    "\n",
    "Exploring academic results from students:"
   ]
  },
  {
   "cell_type": "code",
   "execution_count": 1,
   "metadata": {},
   "outputs": [],
   "source": [
    "import pandas as pd\n",
    "import numpy as np\n",
    "import matplotlib.pyplot as plt\n",
    "%matplotlib inline"
   ]
  },
  {
   "cell_type": "code",
   "execution_count": 2,
   "metadata": {},
   "outputs": [],
   "source": [
    "font = { 'family': 'DejaVu Sans', 'weight': 'bold', 'size': 22 }\n",
    "plt.rc('font', **font)"
   ]
  },
  {
   "cell_type": "markdown",
   "metadata": {},
   "source": [
    "### Results"
   ]
  },
  {
   "cell_type": "code",
   "execution_count": 3,
   "metadata": {},
   "outputs": [],
   "source": [
    "filenames = [\n",
    "    '../../data/demographics/academics_I.csv',\n",
    "    '../../data/demographics/academics_II.csv'\n",
    "]"
   ]
  },
  {
   "cell_type": "code",
   "execution_count": 4,
   "metadata": {},
   "outputs": [],
   "source": [
    "# li = []\n",
    "# for filename in filenames:\n",
    "#     _df = pd.read_csv(filename, index_col=None, header=0)\n",
    "#     li.append(_df)\n",
    "# df = pd.concat(li, axis=0, ignore_index=True, sort=False)"
   ]
  },
  {
   "cell_type": "code",
   "execution_count": 5,
   "metadata": {},
   "outputs": [],
   "source": [
    "df = pd.read_csv(filenames[0]) # first dataset"
   ]
  },
  {
   "cell_type": "code",
   "execution_count": 6,
   "metadata": {
    "scrolled": true
   },
   "outputs": [
    {
     "data": {
      "text/plain": [
       "'40,102 rows'"
      ]
     },
     "execution_count": 6,
     "metadata": {},
     "output_type": "execute_result"
    }
   ],
   "source": [
    "'{:,} rows'.format(len(df))"
   ]
  },
  {
   "cell_type": "code",
   "execution_count": 7,
   "metadata": {},
   "outputs": [],
   "source": [
    "# df.head()"
   ]
  },
  {
   "cell_type": "code",
   "execution_count": 8,
   "metadata": {},
   "outputs": [
    {
     "data": {
      "text/plain": [
       "array(['P', 'RW', 'F', 'RE', 'FX', nan, 'FI', 'F0', 'PP', 'P4'],\n",
       "      dtype=object)"
      ]
     },
     "execution_count": 8,
     "metadata": {},
     "output_type": "execute_result"
    }
   ],
   "source": [
    "df['Exam Result'].unique()"
   ]
  },
  {
   "cell_type": "code",
   "execution_count": 9,
   "metadata": {},
   "outputs": [],
   "source": [
    "subjects = list(df['Subject'].unique())"
   ]
  },
  {
   "cell_type": "code",
   "execution_count": 10,
   "metadata": {},
   "outputs": [
    {
     "data": {
      "text/plain": [
       "136"
      ]
     },
     "execution_count": 10,
     "metadata": {},
     "output_type": "execute_result"
    }
   ],
   "source": [
    "len(subjects)"
   ]
  },
  {
   "cell_type": "code",
   "execution_count": 11,
   "metadata": {},
   "outputs": [
    {
     "data": {
      "text/plain": [
       "['CA103', 'CA106', 'CA115', 'CA116', 'CA117']"
      ]
     },
     "execution_count": 11,
     "metadata": {},
     "output_type": "execute_result"
    }
   ],
   "source": [
    "subjects[:5]"
   ]
  },
  {
   "cell_type": "code",
   "execution_count": 12,
   "metadata": {},
   "outputs": [],
   "source": [
    "years = sorted(df['Year'].unique())"
   ]
  },
  {
   "cell_type": "code",
   "execution_count": 13,
   "metadata": {},
   "outputs": [
    {
     "data": {
      "text/plain": [
       "[2010, 2011, 2012, 2013, 2014, 2015, 2016]"
      ]
     },
     "execution_count": 13,
     "metadata": {},
     "output_type": "execute_result"
    }
   ],
   "source": [
    "years"
   ]
  },
  {
   "cell_type": "code",
   "execution_count": 14,
   "metadata": {},
   "outputs": [],
   "source": [
    "def get_num_students(year, subject):\n",
    "    return len(df[(df['Year'] == year) & \n",
    "                  (df['Subject'] == subject)]['Student Number'].unique())"
   ]
  },
  {
   "cell_type": "code",
   "execution_count": 15,
   "metadata": {},
   "outputs": [
    {
     "data": {
      "text/plain": [
       "67"
      ]
     },
     "execution_count": 15,
     "metadata": {},
     "output_type": "execute_result"
    }
   ],
   "source": [
    "get_num_students(2012, 'CA114')"
   ]
  },
  {
   "cell_type": "code",
   "execution_count": 16,
   "metadata": {},
   "outputs": [],
   "source": [
    "exam_months = sorted(df['Exam Month'].unique())"
   ]
  },
  {
   "cell_type": "code",
   "execution_count": 17,
   "metadata": {},
   "outputs": [
    {
     "data": {
      "text/plain": [
       "[1.0, 5.0, 8.0, nan]"
      ]
     },
     "execution_count": 17,
     "metadata": {},
     "output_type": "execute_result"
    }
   ],
   "source": [
    "exam_months"
   ]
  },
  {
   "cell_type": "code",
   "execution_count": 18,
   "metadata": {},
   "outputs": [],
   "source": [
    "def get_num_students_exam_month(year, subject, exam_month):\n",
    "    return len(df[(df['Year'] == year) & \n",
    "                  (df['Subject'] == subject) & \n",
    "                  (df['Exam Month'] == float(exam_month))]['Student Number'].unique())"
   ]
  },
  {
   "cell_type": "code",
   "execution_count": 19,
   "metadata": {},
   "outputs": [
    {
     "data": {
      "text/plain": [
       "(0, 67, 19)"
      ]
     },
     "execution_count": 19,
     "metadata": {},
     "output_type": "execute_result"
    }
   ],
   "source": [
    "# course is given on the second semester\n",
    "get_num_students_exam_month(2012, 'CA114', 1), \\\n",
    "get_num_students_exam_month(2012, 'CA114', 5), \\\n",
    "get_num_students_exam_month(2012, 'CA114', 8)"
   ]
  },
  {
   "cell_type": "code",
   "execution_count": 20,
   "metadata": {},
   "outputs": [],
   "source": [
    "def plot_students(course):\n",
    "    \n",
    "    keys = []\n",
    "    values = []\n",
    "    for year in years:\n",
    "        keys.append(year)\n",
    "        val = get_num_students(year, course)\n",
    "        values.append(val)\n",
    "\n",
    "    fig, ax = plt.subplots(figsize=(18, 10))\n",
    "    bars = ax.bar(range(len(keys)), values, align='center')\n",
    "    plt.xticks(range(len(keys)), keys)\n",
    "    for bar in bars:\n",
    "        height = bar.get_height()\n",
    "        if height == 0:\n",
    "            continue\n",
    "        width = bar.get_width()\n",
    "        x_value = bar.get_x()\n",
    "        ax.text(x_value + width / 2.5, height + 1, str(height),\n",
    "                color='black', fontweight='bold')\n",
    "    ymin, ymax = plt.ylim()   # return the current ylim\n",
    "    newymax = int(ymax + ymax * 0.1) # 10% more so labels fit\n",
    "    plt.ylim(top=newymax)\n",
    "    \n",
    "    plt.savefig('../../figures/exploring_{}_Students.png'.format(course), bbox_inches=\"tight\")\n"
   ]
  },
  {
   "cell_type": "code",
   "execution_count": 21,
   "metadata": {},
   "outputs": [
    {
     "data": {
      "image/png": "[encoded data removed]",
      "text/plain": [
       "<Figure size 1296x720 with 1 Axes>"
      ]
     },
     "metadata": {
      "needs_background": "light"
     },
     "output_type": "display_data"
    }
   ],
   "source": [
    "plot_students('CA114') # add academic years properly?"
   ]
  },
  {
   "cell_type": "code",
   "execution_count": 22,
   "metadata": {},
   "outputs": [],
   "source": [
    "import calendar\n",
    "\n",
    "colors = [\"b\", \"c\", \"m\", \"g\", \"r\", \"y\", \"k\", \"w\", \"pink\", \"salmon\", \"indigo\", \"lime\"]\n",
    "\n",
    "def plot_examinations(course):\n",
    "\n",
    "    keys = []\n",
    "    values = {}\n",
    "    for year in sorted(years):\n",
    "        keys.append(year)\n",
    "        for exam_month in [1, 5, 8]:\n",
    "            values.setdefault(exam_month, [])\n",
    "            val = get_num_students_exam_month(year, course, exam_month)\n",
    "            values[exam_month].append(val)\n",
    "    \n",
    "    fig, ax = plt.subplots(figsize=(18, 10))\n",
    "    bars = {}\n",
    "    rects = []\n",
    "    rects_text = []\n",
    "    width_len = 1. / len(values)\n",
    "    color_i = 0\n",
    "    width = 0\n",
    "    for month in sorted(values):\n",
    "        if all(v == 0 for v in values[month]): # Same as: list(l) == [0] * len(l)\n",
    "            continue\n",
    "        x_bar = [x + width for x in range(len(keys))]\n",
    "        bars[month] = ax.bar(x_bar, values[month], align='center', width=width_len, color=colors[color_i])\n",
    "        rects.append(bars[month][0])\n",
    "        rects_text.append(calendar.month_name[month]) # Month number to name\n",
    "        # labels\n",
    "        for bar in bars[month]:\n",
    "            bar_height = bar.get_height()\n",
    "            if bar_height == 0:\n",
    "                continue\n",
    "            bar_width = bar.get_width()\n",
    "            x_value = bar.get_x()\n",
    "            ax.text(x_value + bar_width / 4.5, bar_height + 1, str(bar_height),\n",
    "                    color='black', fontweight='bold')\n",
    "        color_i += 1\n",
    "        width += width_len\n",
    "    plt.xticks(range(len(keys)), keys)\n",
    "    ymin, ymax = plt.ylim()   # return the current ylim\n",
    "    newymax = int(ymax + ymax * 0.1) # 10% more so labels fit\n",
    "    plt.ylim(top=newymax)\n",
    "    ax.legend(rects, rects_text, loc=\"best\")\n",
    "\n",
    "    plt.savefig('../../figures/exploring_{}_Resits.png'.format(course), bbox_inches=\"tight\")\n",
    "    "
   ]
  },
  {
   "cell_type": "code",
   "execution_count": 23,
   "metadata": {},
   "outputs": [
    {
     "data": {
      "image/png": "[encoded data removed]",
      "text/plain": [
       "<Figure size 1296x720 with 1 Axes>"
      ]
     },
     "metadata": {
      "needs_background": "light"
     },
     "output_type": "display_data"
    }
   ],
   "source": [
    "plot_examinations('CA114')"
   ]
  },
  {
   "cell_type": "code",
   "execution_count": 24,
   "metadata": {},
   "outputs": [],
   "source": [
    "def get_students(year, subject):\n",
    "    return df[(df['Year'] == year) & \n",
    "              (df['Subject'] == subject)]['Student Number'].unique()"
   ]
  },
  {
   "cell_type": "code",
   "execution_count": 25,
   "metadata": {},
   "outputs": [],
   "source": [
    "# get_students(2012, 'CA114')"
   ]
  },
  {
   "cell_type": "code",
   "execution_count": 26,
   "metadata": {},
   "outputs": [],
   "source": [
    "def get_student_mark(year, subject, exam_month, student_id):\n",
    "    indexes = df[(df['Year'] == year) & \n",
    "              (df['Subject'] == subject) & \n",
    "              (df['Exam Month'] == float(exam_month)) & \n",
    "              (df['Student Number'] == student_id)].index\n",
    "    grade = None\n",
    "    if len(indexes) > 0:\n",
    "        grade = df.iloc[indexes[0], :]['Exam Result']\n",
    "    return grade"
   ]
  },
  {
   "cell_type": "code",
   "execution_count": 27,
   "metadata": {},
   "outputs": [
    {
     "data": {
      "text/plain": [
       "'FX'"
      ]
     },
     "execution_count": 27,
     "metadata": {},
     "output_type": "execute_result"
    }
   ],
   "source": [
    "get_student_mark(2012, 'CA114', 5, 11480232)"
   ]
  },
  {
   "cell_type": "code",
   "execution_count": 28,
   "metadata": {},
   "outputs": [],
   "source": [
    "def plot_examinations_pass_fail(course):\n",
    "                \n",
    "    keys = []\n",
    "    pass_values = {}\n",
    "    fail_values = {}\n",
    "    for year in sorted(years):\n",
    "        keys.append(year)\n",
    "        for exam_month in [1, 5, 8]:\n",
    "            pass_values.setdefault(exam_month, [])\n",
    "            fail_values.setdefault(exam_month, [])\n",
    "            pass_count = 0\n",
    "            fail_count = 0\n",
    "            for student_id in get_students(year, course):\n",
    "                mark = get_student_mark(year, course, exam_month, student_id)\n",
    "                if mark and pd.notna(mark):\n",
    "                    if mark.startswith('P'):\n",
    "                        pass_count += 1\n",
    "                    else:\n",
    "                        fail_count += 1\n",
    "            pass_values[exam_month].append(pass_count)\n",
    "            fail_values[exam_month].append(fail_count)\n",
    "\n",
    "    fig, ax = plt.subplots(figsize=(18, 10))\n",
    "    pass_bars = {}\n",
    "    fail_bars = {}\n",
    "    width_len = 1. / len(pass_values)\n",
    "    width = 0\n",
    "    for month in sorted(pass_values):\n",
    "        if all(v == 0 for v in pass_values[month]) and all(v == 0 for v in fail_values[month]):\n",
    "            continue\n",
    "        x_bar = [x + width for x in range(len(keys))]\n",
    "        # label=\"Pass\"\n",
    "        pass_bars[month] = ax.bar(x_bar, pass_values[month], align='center', width=width_len, color='g', label='Pass')\n",
    "        # label=\"Fail\"\n",
    "        fail_bars[month] = ax.bar(x_bar, fail_values[month], align='center', width=width_len, color='r', label='Fail',\n",
    "                                  bottom=pass_values[month])\n",
    "        # labels\n",
    "        bar_i = 0\n",
    "        while bar_i < len(pass_bars[month]):\n",
    "            pass_bar = pass_bars[month][bar_i]\n",
    "            fail_bar = fail_bars[month][bar_i]\n",
    "            bar_i += 1\n",
    "            bar_height = pass_bar.get_height() + fail_bar.get_height()\n",
    "            if bar_height == 0:\n",
    "                continue\n",
    "            bar_width = pass_bar.get_width() # width is the same for both bars\n",
    "            fail_percentage = 0\n",
    "            if pass_bar.get_height() + fail_bar.get_height() > 0:\n",
    "                fail_percentage = fail_bar.get_height() * 1. / (pass_bar.get_height() + fail_bar.get_height())\n",
    "            ax.text(pass_bar.get_x() + bar_width / 4.5, bar_height + 1, \"{:.0%}\".format(fail_percentage),\n",
    "                    color='black', fontweight='bold')\n",
    "        width += width_len\n",
    "    plt.xticks(range(len(keys)), keys)\n",
    "    ymin, ymax = plt.ylim()   # return the current ylim\n",
    "    newymax = int(ymax + ymax * 0.1) # 10% more so labels fit\n",
    "    plt.ylim(top=newymax)\n",
    "    \n",
    "    plt.savefig('../../figures/exploring_{}_Pass_Fail_Rates.png'.format(course), bbox_inches=\"tight\")\n",
    "    "
   ]
  },
  {
   "cell_type": "code",
   "execution_count": 29,
   "metadata": {},
   "outputs": [
    {
     "data": {
      "image/png": "[encoded data removed]",
      "text/plain": [
       "<Figure size 1296x720 with 1 Axes>"
      ]
     },
     "metadata": {
      "needs_background": "light"
     },
     "output_type": "display_data"
    }
   ],
   "source": [
    "plot_examinations_pass_fail('CA114')"
   ]
  }
 ],
 "metadata": {
  "kernelspec": {
   "display_name": "Python 3",
   "language": "python",
   "name": "python3"
  },
  "language_info": {
   "codemirror_mode": {
    "name": "ipython",
    "version": 3
   },
   "file_extension": ".py",
   "mimetype": "text/x-python",
   "name": "python",
   "nbconvert_exporter": "python",
   "pygments_lexer": "ipython3",
   "version": "3.6.5"
  }
 },
 "nbformat": 4,
 "nbformat_minor": 2
}

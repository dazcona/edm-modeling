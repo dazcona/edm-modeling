{
 "cells": [
  {
   "cell_type": "markdown",
   "metadata": {},
   "source": [
    "# Hyperparameter Tuning\n",
    "\n",
    "In machine learning, hyperparameter optimization or tuning is the problem of choosing a set of optimal hyperparameters for a learning algorithm. A hyperparameter is a parameter whose value is used to control the learning process. By contrast, the values of other parameters (typically node weights) are learned."
   ]
  },
  {
   "cell_type": "code",
   "execution_count": 1,
   "metadata": {},
   "outputs": [
    {
     "name": "stderr",
     "output_type": "stream",
     "text": [
      "/Users/dazconap/Projects/edm-modeling/env/lib/python3.6/site-packages/sklearn/externals/joblib/__init__.py:15: DeprecationWarning: sklearn.externals.joblib is deprecated in 0.21 and will be removed in 0.23. Please import this functionality directly from joblib, which can be installed with: pip install joblib. If this warning is raised when loading pickled models, you may need to re-serialize those models with scikit-learn 0.21+.\n",
      "  warnings.warn(msg, category=DeprecationWarning)\n"
     ]
    }
   ],
   "source": [
    "import json\n",
    "import pandas as pd\n",
    "import numpy as np\n",
    "import pickle\n",
    "from pprint import pprint\n",
    "from sklearn import svm\n",
    "from sklearn.model_selection import cross_val_score, StratifiedKFold\n",
    "from sklearn.ensemble import RandomForestClassifier\n",
    "from sklearn.linear_model import LogisticRegression\n",
    "from sklearn.neighbors import KNeighborsClassifier\n",
    "from sklearn.model_selection import GridSearchCV, RandomizedSearchCV\n",
    "from sklearn.pipeline import Pipeline\n",
    "from sklearn.externals import joblib"
   ]
  },
  {
   "cell_type": "code",
   "execution_count": 2,
   "metadata": {},
   "outputs": [],
   "source": [
    "import matplotlib.pyplot as plt\n",
    "%matplotlib inline\n",
    "font = { 'family': 'DejaVu Sans', 'weight': 'bold', 'size': 25 }\n",
    "plt.rc('font', **font)"
   ]
  },
  {
   "cell_type": "code",
   "execution_count": 3,
   "metadata": {},
   "outputs": [],
   "source": [
    "np.random.seed(42)"
   ]
  },
  {
   "cell_type": "code",
   "execution_count": 4,
   "metadata": {},
   "outputs": [],
   "source": [
    "# %pprint # ON and OFF"
   ]
  },
  {
   "cell_type": "code",
   "execution_count": 5,
   "metadata": {},
   "outputs": [],
   "source": [
    "PASS_THRESHOLD = 40"
   ]
  },
  {
   "cell_type": "code",
   "execution_count": 6,
   "metadata": {},
   "outputs": [],
   "source": [
    "weeks = range(1, 13)"
   ]
  },
  {
   "cell_type": "code",
   "execution_count": 7,
   "metadata": {},
   "outputs": [],
   "source": [
    "_course = 'ca116'"
   ]
  },
  {
   "cell_type": "code",
   "execution_count": 8,
   "metadata": {},
   "outputs": [],
   "source": [
    "training_and_validation_years = [\n",
    "    (2016, 2017),\n",
    "    (2017, 2018)\n",
    "]"
   ]
  },
  {
   "cell_type": "code",
   "execution_count": 9,
   "metadata": {},
   "outputs": [],
   "source": [
    "exams = [4, 8, 12]"
   ]
  },
  {
   "cell_type": "markdown",
   "metadata": {},
   "source": [
    "Dictionary of given a week, which exam should we predicting next?"
   ]
  },
  {
   "cell_type": "code",
   "execution_count": 10,
   "metadata": {},
   "outputs": [],
   "source": [
    "def get_week_to_exam(exam_weeks):\n",
    "    week_to_exam = {}\n",
    "    curr = exam_weeks[-1]\n",
    "    for i in reversed(range(12)):\n",
    "        week = i + 1\n",
    "        if week in exam_weeks:\n",
    "            curr = week\n",
    "        week_to_exam[week] = curr\n",
    "    return week_to_exam"
   ]
  },
  {
   "cell_type": "code",
   "execution_count": 11,
   "metadata": {},
   "outputs": [],
   "source": [
    "week_to_exam = get_week_to_exam(exams)"
   ]
  },
  {
   "cell_type": "code",
   "execution_count": 12,
   "metadata": {},
   "outputs": [
    {
     "data": {
      "text/plain": [
       "{12: 12, 11: 12, 10: 12, 9: 12, 8: 8, 7: 8, 6: 8, 5: 8, 4: 4, 3: 4, 2: 4, 1: 4}"
      ]
     },
     "execution_count": 12,
     "metadata": {},
     "output_type": "execute_result"
    }
   ],
   "source": [
    "week_to_exam"
   ]
  },
  {
   "cell_type": "code",
   "execution_count": 13,
   "metadata": {},
   "outputs": [],
   "source": [
    "def get_scorings():\n",
    "    return [\n",
    "        \"roc_auc\",\n",
    "        \"f1\",\n",
    "        \"precision\",\n",
    "        \"recall\",\n",
    "        \"accuracy\",\n",
    "        \"average_precision\",\n",
    "    ]"
   ]
  },
  {
   "cell_type": "code",
   "execution_count": 14,
   "metadata": {},
   "outputs": [],
   "source": [
    "def calculate_cross_val_score(algorithm, X, Y, nfolds, scoring=\"roc_auc\"):\n",
    "    cv = StratifiedKFold(Y, n_folds=nfolds)\n",
    "    scores = cross_val_score(algorithm, X, Y, scoring=scoring, cv=cv)\n",
    "    return scores.mean(), scores.std()"
   ]
  },
  {
   "cell_type": "code",
   "execution_count": 15,
   "metadata": {},
   "outputs": [],
   "source": [
    "THRESHOLD = 40"
   ]
  },
  {
   "cell_type": "code",
   "execution_count": 16,
   "metadata": {},
   "outputs": [
    {
     "name": "stdout",
     "output_type": "stream",
     "text": [
      "## YEAR: (2016, 2017) ##\n",
      "## YEAR: (2017, 2018) ##\n"
     ]
    }
   ],
   "source": [
    "# FEATURES\n",
    "\n",
    "data = []\n",
    "\n",
    "for _year in training_and_validation_years:\n",
    "\n",
    "    print('## YEAR: {} ##'.format(_year))\n",
    "    \n",
    "    filename = '../../data/features/features_%s_%s.json' % (_course.upper(), _year[1])\n",
    "    with open(filename) as f:\n",
    "        data.extend(json.load(f))"
   ]
  },
  {
   "cell_type": "code",
   "execution_count": 17,
   "metadata": {},
   "outputs": [],
   "source": [
    "def get_grid_search():\n",
    "\n",
    "    pipe = Pipeline([(\"classifier\", RandomForestClassifier())])\n",
    "\n",
    "    search_space = [\n",
    "        {\"classifier\": [ RandomForestClassifier() ],\n",
    "         \"classifier__n_estimators\": [10, 100, 1000],\n",
    "         \"classifier__max_features\": [1, 2, 3]}\n",
    "    ]\n",
    "    \n",
    "    # {\"classifier\": [ RandomForestClassifier() ],\n",
    "    # \"classifier__n_estimators\": [10, 100, 1000],\n",
    "    # \"classifier__max_features\": [1, 2, 3]}\n",
    "    \n",
    "    # {\"classifier\": [ KNeighborsClassifier() ],\n",
    "    # \"classifier__n_neighbors\": np.arange(3, 15, 3)}\n",
    "    \n",
    "    # {\"classifier\": [ LogisticRegression() ],\n",
    "    # \"classifier__penalty\": ['l1', 'l2'],\n",
    "    # \"classifier__C\": np.logspace(0, 4, 5)}\n",
    "    \n",
    "    # {\"classifier\": [ svm.SVC() ],\n",
    "    # \"classifier__C\": np.logspace(0, 4, 5),\n",
    "    #\"classifier__kernel\": ['linear', 'poly', 'rbf']}\n",
    "    \n",
    "    return GridSearchCV(pipe, search_space, cv=5, verbose=0)"
   ]
  },
  {
   "cell_type": "code",
   "execution_count": 18,
   "metadata": {},
   "outputs": [],
   "source": [
    "import warnings\n",
    "warnings.filterwarnings('ignore') # \"error\", \"ignore\", \"always\", \"default\", \"module\" or \"once\""
   ]
  },
  {
   "cell_type": "code",
   "execution_count": 19,
   "metadata": {
    "scrolled": false
   },
   "outputs": [
    {
     "name": "stdout",
     "output_type": "stream",
     "text": [
      "* Week: 1, Exam: 4 *\n",
      "Rows: Train 225, Validate 59, Passing rate: 0.83\n",
      "RandomForestClassifier(bootstrap=True, class_weight=None, criterion='gini',\n",
      "                       max_depth=None, max_features=1, max_leaf_nodes=None,\n",
      "                       min_impurity_decrease=0.0, min_impurity_split=None,\n",
      "                       min_samples_leaf=1, min_samples_split=2,\n",
      "                       min_weight_fraction_leaf=0.0, n_estimators=100,\n",
      "                       n_jobs=None, oob_score=False, random_state=None,\n",
      "                       verbose=0, warm_start=False)\n",
      "Calculating scores:\n",
      "[0.83333333 0.91428571 0.88235294]\n",
      "Scores Mean: 0.876657\n",
      "* Week: 2, Exam: 4 *\n",
      "Rows: Train 225, Validate 59, Passing rate: 0.83\n",
      "RandomForestClassifier(bootstrap=True, class_weight=None, criterion='gini',\n",
      "                       max_depth=None, max_features=3, max_leaf_nodes=None,\n",
      "                       min_impurity_decrease=0.0, min_impurity_split=None,\n",
      "                       min_samples_leaf=1, min_samples_split=2,\n",
      "                       min_weight_fraction_leaf=0.0, n_estimators=10,\n",
      "                       n_jobs=None, oob_score=False, random_state=None,\n",
      "                       verbose=0, warm_start=False)\n",
      "Calculating scores:\n",
      "[0.89473684 0.91428571 0.91428571]\n",
      "Scores Mean: 0.907769\n",
      "* Week: 3, Exam: 4 *\n",
      "Rows: Train 225, Validate 59, Passing rate: 0.83\n",
      "RandomForestClassifier(bootstrap=True, class_weight=None, criterion='gini',\n",
      "                       max_depth=None, max_features=1, max_leaf_nodes=None,\n",
      "                       min_impurity_decrease=0.0, min_impurity_split=None,\n",
      "                       min_samples_leaf=1, min_samples_split=2,\n",
      "                       min_weight_fraction_leaf=0.0, n_estimators=1000,\n",
      "                       n_jobs=None, oob_score=False, random_state=None,\n",
      "                       verbose=0, warm_start=False)\n",
      "Calculating scores:\n",
      "[0.89473684 0.91428571 0.88235294]\n",
      "Scores Mean: 0.897125\n",
      "* Week: 4, Exam: 4 *\n",
      "Rows: Train 225, Validate 59, Passing rate: 0.83\n",
      "RandomForestClassifier(bootstrap=True, class_weight=None, criterion='gini',\n",
      "                       max_depth=None, max_features=1, max_leaf_nodes=None,\n",
      "                       min_impurity_decrease=0.0, min_impurity_split=None,\n",
      "                       min_samples_leaf=1, min_samples_split=2,\n",
      "                       min_weight_fraction_leaf=0.0, n_estimators=100,\n",
      "                       n_jobs=None, oob_score=False, random_state=None,\n",
      "                       verbose=0, warm_start=False)\n",
      "Calculating scores:\n",
      "[0.8        0.875      0.91428571]\n",
      "Scores Mean: 0.863095\n",
      "* Week: 5, Exam: 8 *\n",
      "Rows: Train 225, Validate 59, Passing rate: 0.51\n",
      "RandomForestClassifier(bootstrap=True, class_weight=None, criterion='gini',\n",
      "                       max_depth=None, max_features=2, max_leaf_nodes=None,\n",
      "                       min_impurity_decrease=0.0, min_impurity_split=None,\n",
      "                       min_samples_leaf=1, min_samples_split=2,\n",
      "                       min_weight_fraction_leaf=0.0, n_estimators=100,\n",
      "                       n_jobs=None, oob_score=False, random_state=None,\n",
      "                       verbose=0, warm_start=False)\n",
      "Calculating scores:\n",
      "[0.63157895 0.66666667 0.72727273]\n",
      "Scores Mean: 0.675173\n",
      "* Week: 6, Exam: 8 *\n",
      "Rows: Train 225, Validate 59, Passing rate: 0.51\n",
      "RandomForestClassifier(bootstrap=True, class_weight=None, criterion='gini',\n",
      "                       max_depth=None, max_features=3, max_leaf_nodes=None,\n",
      "                       min_impurity_decrease=0.0, min_impurity_split=None,\n",
      "                       min_samples_leaf=1, min_samples_split=2,\n",
      "                       min_weight_fraction_leaf=0.0, n_estimators=100,\n",
      "                       n_jobs=None, oob_score=False, random_state=None,\n",
      "                       verbose=0, warm_start=False)\n",
      "Calculating scores:\n",
      "[0.55555556 0.74074074 0.7       ]\n",
      "Scores Mean: 0.665432\n",
      "* Week: 7, Exam: 8 *\n",
      "Rows: Train 225, Validate 59, Passing rate: 0.51\n",
      "RandomForestClassifier(bootstrap=True, class_weight=None, criterion='gini',\n",
      "                       max_depth=None, max_features=3, max_leaf_nodes=None,\n",
      "                       min_impurity_decrease=0.0, min_impurity_split=None,\n",
      "                       min_samples_leaf=1, min_samples_split=2,\n",
      "                       min_weight_fraction_leaf=0.0, n_estimators=100,\n",
      "                       n_jobs=None, oob_score=False, random_state=None,\n",
      "                       verbose=0, warm_start=False)\n",
      "Calculating scores:\n",
      "[0.4 0.8 0.6]\n",
      "Scores Mean: 0.600000\n",
      "* Week: 8, Exam: 8 *\n",
      "Rows: Train 225, Validate 59, Passing rate: 0.51\n",
      "RandomForestClassifier(bootstrap=True, class_weight=None, criterion='gini',\n",
      "                       max_depth=None, max_features=1, max_leaf_nodes=None,\n",
      "                       min_impurity_decrease=0.0, min_impurity_split=None,\n",
      "                       min_samples_leaf=1, min_samples_split=2,\n",
      "                       min_weight_fraction_leaf=0.0, n_estimators=100,\n",
      "                       n_jobs=None, oob_score=False, random_state=None,\n",
      "                       verbose=0, warm_start=False)\n",
      "Calculating scores:\n",
      "[0.4        0.81481481 0.63157895]\n",
      "Scores Mean: 0.615465\n",
      "* Week: 9, Exam: 12 *\n",
      "Rows: Train 225, Validate 59, Passing rate: 0.49\n",
      "RandomForestClassifier(bootstrap=True, class_weight=None, criterion='gini',\n",
      "                       max_depth=None, max_features=2, max_leaf_nodes=None,\n",
      "                       min_impurity_decrease=0.0, min_impurity_split=None,\n",
      "                       min_samples_leaf=1, min_samples_split=2,\n",
      "                       min_weight_fraction_leaf=0.0, n_estimators=100,\n",
      "                       n_jobs=None, oob_score=False, random_state=None,\n",
      "                       verbose=0, warm_start=False)\n",
      "Calculating scores:\n",
      "[0.60869565 0.76190476 0.72727273]\n",
      "Scores Mean: 0.699291\n",
      "* Week: 10, Exam: 12 *\n",
      "Rows: Train 225, Validate 59, Passing rate: 0.49\n",
      "RandomForestClassifier(bootstrap=True, class_weight=None, criterion='gini',\n",
      "                       max_depth=None, max_features=2, max_leaf_nodes=None,\n",
      "                       min_impurity_decrease=0.0, min_impurity_split=None,\n",
      "                       min_samples_leaf=1, min_samples_split=2,\n",
      "                       min_weight_fraction_leaf=0.0, n_estimators=1000,\n",
      "                       n_jobs=None, oob_score=False, random_state=None,\n",
      "                       verbose=0, warm_start=False)\n",
      "Calculating scores:\n",
      "[0.4        0.8        0.76190476]\n",
      "Scores Mean: 0.653968\n",
      "* Week: 11, Exam: 12 *\n",
      "Rows: Train 225, Validate 59, Passing rate: 0.49\n",
      "RandomForestClassifier(bootstrap=True, class_weight=None, criterion='gini',\n",
      "                       max_depth=None, max_features=1, max_leaf_nodes=None,\n",
      "                       min_impurity_decrease=0.0, min_impurity_split=None,\n",
      "                       min_samples_leaf=1, min_samples_split=2,\n",
      "                       min_weight_fraction_leaf=0.0, n_estimators=1000,\n",
      "                       n_jobs=None, oob_score=False, random_state=None,\n",
      "                       verbose=0, warm_start=False)\n",
      "Calculating scores:\n",
      "[0.47619048 0.81818182 0.86956522]\n",
      "Scores Mean: 0.721313\n",
      "* Week: 12, Exam: 12 *\n",
      "Rows: Train 225, Validate 59, Passing rate: 0.49\n",
      "RandomForestClassifier(bootstrap=True, class_weight=None, criterion='gini',\n",
      "                       max_depth=None, max_features=3, max_leaf_nodes=None,\n",
      "                       min_impurity_decrease=0.0, min_impurity_split=None,\n",
      "                       min_samples_leaf=1, min_samples_split=2,\n",
      "                       min_weight_fraction_leaf=0.0, n_estimators=1000,\n",
      "                       n_jobs=None, oob_score=False, random_state=None,\n",
      "                       verbose=0, warm_start=False)\n",
      "Calculating scores:\n",
      "[0.54545455 0.7        0.72727273]\n",
      "Scores Mean: 0.657576\n"
     ]
    }
   ],
   "source": [
    "# Students to TRAIN and VALIDATE for each exam\n",
    "\n",
    "X_train_students, X_val_students = {}, {}\n",
    "\n",
    "for exam in exams:\n",
    "    \n",
    "    # Students to train and their results\n",
    "    X_train_students[exam] = np.load('../../data/features/X_train_{}.npy'.format(exam))\n",
    "\n",
    "    # Students to validate and their results\n",
    "    X_val_students[exam] = np.load('../../data/features/X_val_{}.npy'.format(exam))\n",
    "\n",
    "# TRAIN\n",
    "    \n",
    "cols_to_remove = ['academic_year_0', 'academic_year_1', 'course', 'route', # For now route is removed\n",
    "                  'student', 'week', 'exam', 'grade', 'domicile']\n",
    "\n",
    "labels = [0, 1]\n",
    "\n",
    "means = []\n",
    "\n",
    "for week in range(1, 13):\n",
    "\n",
    "    # Target exam\n",
    "    exam = week_to_exam[week]\n",
    "\n",
    "    print('* Week: {}, Exam: {} *'.format(week, exam))\n",
    "\n",
    "    # data\n",
    "    week_data = pd.DataFrame([ d for d in data if d['week'] == week ])\n",
    "\n",
    "    # training data\n",
    "    training_data = week_data[ week_data['student'].isin(X_train_students[exam]) ]\n",
    "\n",
    "    X_train = training_data.drop(cols_to_remove, axis=1)\n",
    "    y_train = training_data['grade'] >= THRESHOLD\n",
    "\n",
    "    # validation data\n",
    "    validation_data = week_data[ week_data['student'].isin(X_val_students[exam]) ]\n",
    "\n",
    "    X_val = validation_data.drop(cols_to_remove, axis=1)\n",
    "    y_val = validation_data['grade'] >= THRESHOLD\n",
    "        \n",
    "    pct_passsing = sum(y_train) / float(len(y_train))\n",
    "    \n",
    "    print('Rows: Train {}, Validate {}, Passing rate: {:.2f}'.format(len(X_train), len(X_val), pct_passsing))\n",
    "    \n",
    "    # fill NA\n",
    "    X_train.fillna(0, inplace=True)\n",
    "    X_val.fillna(0, inplace=True)\n",
    "    \n",
    "    # Grid Search\n",
    "    gridsearch = get_grid_search()\n",
    "\n",
    "    # Fit\n",
    "    best_model = gridsearch.fit(X_train, y_train)\n",
    "        \n",
    "    print(best_model.best_estimator_.get_params()['classifier'])\n",
    "        \n",
    "    filename = '../../data/models/model_week_%s.pkl' % (week)\n",
    "    joblib.dump(best_model, filename)\n",
    "        \n",
    "    print('Calculating scores:')\n",
    "    scores = cross_val_score(gridsearch, X_val, y_val, scoring='f1')\n",
    "\n",
    "    print(scores)\n",
    "\n",
    "    print('Scores Mean: %f' % (scores.mean()))\n",
    "    \n",
    "    means.append(scores.mean())"
   ]
  },
  {
   "cell_type": "code",
   "execution_count": 22,
   "metadata": {},
   "outputs": [
    {
     "data": {
      "image/png": "[encoded data removed]",
      "text/plain": [
       "<Figure size 1296x720 with 1 Axes>"
      ]
     },
     "metadata": {
      "needs_background": "light"
     },
     "output_type": "display_data"
    }
   ],
   "source": [
    "fig, ax = plt.subplots(figsize=(18, 10))\n",
    "plt.ylim(*(0, 1))\n",
    "plt.rc('font', **font)\n",
    "plt.xlabel(\"Week\")\n",
    "plt.ylabel('ACC')\n",
    "weeks = range(1, 13)\n",
    "plt.grid()\n",
    "plt.plot(weeks, means, 'o-', color='blue', label='Random Forest', markersize=10)\n",
    "plt.xticks(np.arange(0, len(weeks) + 2))\n",
    "plt.yticks(np.arange(0, 1.1, 0.1))\n",
    "# Hide labels\n",
    "plt.setp(ax.get_xticklabels()[0], visible=False)\n",
    "plt.setp(ax.get_xticklabels()[-1], visible=False)\n",
    "plt.legend(loc=\"lower right\", fontsize=20)\n",
    "filename = '../../figures/{}_Hyperparameter_Tuning_Random_Forest.png'.format(_course.upper())\n",
    "plt.savefig(filename, format='png', bbox_inches=\"tight\", dpi=100)"
   ]
  },
  {
   "cell_type": "code",
   "execution_count": null,
   "metadata": {},
   "outputs": [],
   "source": []
  }
 ],
 "metadata": {
  "kernelspec": {
   "display_name": "Python 3",
   "language": "python",
   "name": "python3"
  },
  "language_info": {
   "codemirror_mode": {
    "name": "ipython",
    "version": 3
   },
   "file_extension": ".py",
   "mimetype": "text/x-python",
   "name": "python",
   "nbconvert_exporter": "python",
   "pygments_lexer": "ipython3",
   "version": "3.6.5"
  }
 },
 "nbformat": 4,
 "nbformat_minor": 2
}
